{
  "nbformat": 4,
  "nbformat_minor": 0,
  "metadata": {
    "colab": {
      "provenance": [],
      "authorship_tag": "ABX9TyPoSSSKrQgoGKm2nGUVcbTT",
      "include_colab_link": true
    },
    "kernelspec": {
      "name": "python3",
      "display_name": "Python 3"
    },
    "language_info": {
      "name": "python"
    }
  },
  "cells": [
    {
      "cell_type": "markdown",
      "metadata": {
        "id": "view-in-github",
        "colab_type": "text"
      },
      "source": [
        "<a href=\"https://colab.research.google.com/github/Jyothi191022/jyo/blob/main/Untitled3.ipynb\" target=\"_parent\"><img src=\"https://colab.research.google.com/assets/colab-badge.svg\" alt=\"Open In Colab\"/></a>"
      ]
    },
    {
      "cell_type": "markdown",
      "source": [
        "STRING METHODS"
      ],
      "metadata": {
        "id": "SwL-W4jGZFNB"
      }
    },
    {
      "cell_type": "code",
      "source": [
        "txt = \"hello, and welcome to my world.\"\n",
        "\n",
        "x = txt.capitalize()\n",
        "\n",
        "print (x)\n"
      ],
      "metadata": {
        "colab": {
          "base_uri": "https://localhost:8080/"
        },
        "id": "-WShRh-aZMoj",
        "outputId": "8c099d24-f149-4b5a-a8cf-a7a370caade5"
      },
      "execution_count": 1,
      "outputs": [
        {
          "output_type": "stream",
          "name": "stdout",
          "text": [
            "Hello, and welcome to my world.\n"
          ]
        }
      ]
    },
    {
      "cell_type": "code",
      "source": [
        "txt = \"Hello, And Welcome To My World!\"\n",
        "\n",
        "x = txt.casefold()\n",
        "\n",
        "print(x)\n"
      ],
      "metadata": {
        "colab": {
          "base_uri": "https://localhost:8080/"
        },
        "id": "rISrTFo6ZwwO",
        "outputId": "461b5ee5-88df-4b98-c73e-0d4755f79407"
      },
      "execution_count": 2,
      "outputs": [
        {
          "output_type": "stream",
          "name": "stdout",
          "text": [
            "hello, and welcome to my world!\n"
          ]
        }
      ]
    },
    {
      "cell_type": "code",
      "source": [
        "txt = \"banana\"\n",
        "\n",
        "x = txt.center(20)\n",
        "\n",
        "print(x)\n"
      ],
      "metadata": {
        "colab": {
          "base_uri": "https://localhost:8080/"
        },
        "id": "V9OwoqgHZ48w",
        "outputId": "e6a00469-4945-4f0e-bd76-6815c79ed020"
      },
      "execution_count": 3,
      "outputs": [
        {
          "output_type": "stream",
          "name": "stdout",
          "text": [
            "       banana       \n"
          ]
        }
      ]
    },
    {
      "cell_type": "code",
      "source": [
        "txt = \"I love apples, apple are my favorite fruit\"\n",
        "\n",
        "x = txt.count(\"apple\")\n",
        "\n",
        "print(x)"
      ],
      "metadata": {
        "colab": {
          "base_uri": "https://localhost:8080/"
        },
        "id": "B9puNAirZ7E9",
        "outputId": "ac4ee872-2254-42de-db24-4cd3bcd9adc9"
      },
      "execution_count": 4,
      "outputs": [
        {
          "output_type": "stream",
          "name": "stdout",
          "text": [
            "2\n"
          ]
        }
      ]
    },
    {
      "cell_type": "code",
      "source": [
        "txt = \"My name is Ståle\"\n",
        "\n",
        "x = txt.encode()\n",
        "\n",
        "print(x)"
      ],
      "metadata": {
        "colab": {
          "base_uri": "https://localhost:8080/"
        },
        "id": "9ofAbnx0aUxH",
        "outputId": "c0fc0b7e-e86c-42d4-8c2e-2a5c6e3a6aa8"
      },
      "execution_count": 5,
      "outputs": [
        {
          "output_type": "stream",
          "name": "stdout",
          "text": [
            "b'My name is St\\xc3\\xa5le'\n"
          ]
        }
      ]
    },
    {
      "cell_type": "code",
      "source": [
        "txt = \"Hello, welcome to my world.\"\n",
        "\n",
        "x = txt.endswith(\".\")\n",
        "\n",
        "print(x)\n"
      ],
      "metadata": {
        "colab": {
          "base_uri": "https://localhost:8080/"
        },
        "id": "KV3Hi5VHaalP",
        "outputId": "3a1fad45-b7e9-4ad3-a3c5-a433811c7928"
      },
      "execution_count": 6,
      "outputs": [
        {
          "output_type": "stream",
          "name": "stdout",
          "text": [
            "True\n"
          ]
        }
      ]
    },
    {
      "cell_type": "code",
      "source": [
        "txt = \"H\\te\\tl\\tl\\to\"\n",
        "\n",
        "x =  txt.expandtabs(2)\n",
        "\n",
        "print(x)"
      ],
      "metadata": {
        "colab": {
          "base_uri": "https://localhost:8080/"
        },
        "id": "8_6n9SKBae3-",
        "outputId": "a6bf3b3b-e6cd-4ab0-ff88-191d6a132b87"
      },
      "execution_count": 7,
      "outputs": [
        {
          "output_type": "stream",
          "name": "stdout",
          "text": [
            "H e l l o\n"
          ]
        }
      ]
    },
    {
      "cell_type": "code",
      "source": [
        "txt = \"Hello, welcome to my world.\"\n",
        "\n",
        "x = txt.find(\"welcome\")\n",
        "\n",
        "print(x)"
      ],
      "metadata": {
        "colab": {
          "base_uri": "https://localhost:8080/"
        },
        "id": "ErJZiOz5alNN",
        "outputId": "f10460ef-a689-4aea-c4cb-19fd833098a6"
      },
      "execution_count": 8,
      "outputs": [
        {
          "output_type": "stream",
          "name": "stdout",
          "text": [
            "7\n"
          ]
        }
      ]
    },
    {
      "cell_type": "code",
      "source": [
        "txt = \"For only {price:.2f} dollars!\"\n",
        "print(txt.format(price = 49))"
      ],
      "metadata": {
        "colab": {
          "base_uri": "https://localhost:8080/"
        },
        "id": "zKaVYxyNarNY",
        "outputId": "63b527a8-95e0-414a-a1af-f50a1dac981f"
      },
      "execution_count": 9,
      "outputs": [
        {
          "output_type": "stream",
          "name": "stdout",
          "text": [
            "For only 49.00 dollars!\n"
          ]
        }
      ]
    },
    {
      "cell_type": "code",
      "source": [
        "txt = \"Hello, welcome to my world.\"\n",
        "\n",
        "x = txt.index(\"welcome\")\n",
        "\n",
        "print(x)"
      ],
      "metadata": {
        "colab": {
          "base_uri": "https://localhost:8080/"
        },
        "id": "uDtoNlSpa1jH",
        "outputId": "2f80d952-461a-49b3-c916-70824508dab7"
      },
      "execution_count": 10,
      "outputs": [
        {
          "output_type": "stream",
          "name": "stdout",
          "text": [
            "7\n"
          ]
        }
      ]
    },
    {
      "cell_type": "code",
      "source": [
        "txt = \"Company12\"\n",
        "\n",
        "x = txt.isalnum()\n",
        "\n",
        "print(x)"
      ],
      "metadata": {
        "colab": {
          "base_uri": "https://localhost:8080/"
        },
        "id": "VwXMOBPza5cz",
        "outputId": "bbbfb039-b19b-4fe3-e1e7-1634239b006e"
      },
      "execution_count": 11,
      "outputs": [
        {
          "output_type": "stream",
          "name": "stdout",
          "text": [
            "True\n"
          ]
        }
      ]
    },
    {
      "cell_type": "code",
      "source": [
        "txt = \"CompanyX\"\n",
        "\n",
        "x = txt.isalpha()\n",
        "\n",
        "print(x)"
      ],
      "metadata": {
        "colab": {
          "base_uri": "https://localhost:8080/"
        },
        "id": "TdTya_uObBmG",
        "outputId": "e9966d2f-6007-497c-b436-ec42e660fe7e"
      },
      "execution_count": 12,
      "outputs": [
        {
          "output_type": "stream",
          "name": "stdout",
          "text": [
            "True\n"
          ]
        }
      ]
    },
    {
      "cell_type": "code",
      "source": [
        "txt = \"Company123\"\n",
        "\n",
        "x = txt.isascii()\n",
        "\n",
        "print(x)"
      ],
      "metadata": {
        "colab": {
          "base_uri": "https://localhost:8080/"
        },
        "id": "fErJWPK4bGTc",
        "outputId": "5de1d607-2b4a-458b-9973-9d88ced1b211"
      },
      "execution_count": 13,
      "outputs": [
        {
          "output_type": "stream",
          "name": "stdout",
          "text": [
            "True\n"
          ]
        }
      ]
    },
    {
      "cell_type": "code",
      "source": [
        "txt = \"1234\"\n",
        "\n",
        "x = txt.isdecimal()\n",
        "\n",
        "print(x)"
      ],
      "metadata": {
        "colab": {
          "base_uri": "https://localhost:8080/"
        },
        "id": "zG_A_4xVbMmg",
        "outputId": "bcab719c-ce10-452c-d26b-ab92fc8945af"
      },
      "execution_count": 14,
      "outputs": [
        {
          "output_type": "stream",
          "name": "stdout",
          "text": [
            "True\n"
          ]
        }
      ]
    },
    {
      "cell_type": "code",
      "source": [
        "txt = \"50800\"\n",
        "\n",
        "x = txt.isdigit()\n",
        "\n",
        "print(x)"
      ],
      "metadata": {
        "colab": {
          "base_uri": "https://localhost:8080/"
        },
        "id": "cGY3L2ChbQdb",
        "outputId": "237ff863-27a2-4782-b6a1-82de91524c0f"
      },
      "execution_count": 15,
      "outputs": [
        {
          "output_type": "stream",
          "name": "stdout",
          "text": [
            "True\n"
          ]
        }
      ]
    },
    {
      "cell_type": "code",
      "source": [
        "txt = \"Demo\"\n",
        "\n",
        "x = txt.isidentifier()\n",
        "\n",
        "print(x)"
      ],
      "metadata": {
        "colab": {
          "base_uri": "https://localhost:8080/"
        },
        "id": "qosTA96tbUtF",
        "outputId": "d9de4645-504a-4c94-ca0b-c572d4f8b5ca"
      },
      "execution_count": 16,
      "outputs": [
        {
          "output_type": "stream",
          "name": "stdout",
          "text": [
            "True\n"
          ]
        }
      ]
    },
    {
      "cell_type": "code",
      "source": [
        "txt = \"hello world!\"\n",
        "\n",
        "x = txt.islower()\n",
        "\n",
        "print(x)"
      ],
      "metadata": {
        "colab": {
          "base_uri": "https://localhost:8080/"
        },
        "id": "agKBUSj1bZjN",
        "outputId": "8608c994-e77e-402c-c9c6-8ad2b61e22f9"
      },
      "execution_count": 17,
      "outputs": [
        {
          "output_type": "stream",
          "name": "stdout",
          "text": [
            "True\n"
          ]
        }
      ]
    },
    {
      "cell_type": "code",
      "source": [
        "txt = \"565543\"\n",
        "\n",
        "x = txt.isnumeric()\n",
        "\n",
        "print(x)"
      ],
      "metadata": {
        "colab": {
          "base_uri": "https://localhost:8080/"
        },
        "id": "9K9c-br3bdiq",
        "outputId": "73afc996-d6bd-44d6-d8a0-90d7daec2850"
      },
      "execution_count": 18,
      "outputs": [
        {
          "output_type": "stream",
          "name": "stdout",
          "text": [
            "True\n"
          ]
        }
      ]
    },
    {
      "cell_type": "code",
      "source": [
        "txt = \"Hello! Are you #1?\"\n",
        "\n",
        "x = txt.isprintable()\n",
        "\n",
        "print(x)"
      ],
      "metadata": {
        "colab": {
          "base_uri": "https://localhost:8080/"
        },
        "id": "RbPJ1BQfbeZu",
        "outputId": "617e829c-c1ec-40a0-ea23-670b1b5b0c57"
      },
      "execution_count": 19,
      "outputs": [
        {
          "output_type": "stream",
          "name": "stdout",
          "text": [
            "True\n"
          ]
        }
      ]
    },
    {
      "cell_type": "code",
      "source": [
        "txt = \"Hello, And Welcome To My World!\"\n",
        "\n",
        "x = txt.istitle()\n",
        "\n",
        "print(x)"
      ],
      "metadata": {
        "colab": {
          "base_uri": "https://localhost:8080/"
        },
        "id": "RGiUON5UbvcU",
        "outputId": "e2799a68-8bdf-4428-d41c-d3b52d1282b5"
      },
      "execution_count": 21,
      "outputs": [
        {
          "output_type": "stream",
          "name": "stdout",
          "text": [
            "True\n"
          ]
        }
      ]
    },
    {
      "cell_type": "code",
      "source": [
        "txt = \"THIS IS NOW!\"\n",
        "\n",
        "x = txt.isupper()\n",
        "\n",
        "print(x)"
      ],
      "metadata": {
        "colab": {
          "base_uri": "https://localhost:8080/"
        },
        "id": "n0MPSN0Ebz4b",
        "outputId": "4f26bc3f-6948-4240-95d8-6704df6dac5f"
      },
      "execution_count": 22,
      "outputs": [
        {
          "output_type": "stream",
          "name": "stdout",
          "text": [
            "True\n"
          ]
        }
      ]
    },
    {
      "cell_type": "code",
      "source": [
        "myTuple = (\"John\", \"Peter\", \"Vicky\")\n",
        "\n",
        "x = \"#\".join(myTuple)\n",
        "\n",
        "print(x)"
      ],
      "metadata": {
        "colab": {
          "base_uri": "https://localhost:8080/"
        },
        "id": "sK1zouqgb3lH",
        "outputId": "2eaa0734-4618-473f-b391-ac6872d4a592"
      },
      "execution_count": 23,
      "outputs": [
        {
          "output_type": "stream",
          "name": "stdout",
          "text": [
            "John#Peter#Vicky\n"
          ]
        }
      ]
    },
    {
      "cell_type": "code",
      "source": [
        "txt = \"banana\"\n",
        "\n",
        "x = txt.ljust(20)\n",
        "\n",
        "print(x, \"is my favorite fruit.\")"
      ],
      "metadata": {
        "colab": {
          "base_uri": "https://localhost:8080/"
        },
        "id": "udYpBnx0b7od",
        "outputId": "1e53ed15-5835-4369-e066-165c90a661f8"
      },
      "execution_count": 24,
      "outputs": [
        {
          "output_type": "stream",
          "name": "stdout",
          "text": [
            "banana               is my favorite fruit.\n"
          ]
        }
      ]
    },
    {
      "cell_type": "code",
      "source": [
        "txt = \"Hello my FRIENDS\"\n",
        "\n",
        "x = txt.lower()\n",
        "\n",
        "print(x)"
      ],
      "metadata": {
        "colab": {
          "base_uri": "https://localhost:8080/"
        },
        "id": "kC2aMFQIb9Hh",
        "outputId": "ab653961-2bfe-4ddc-8447-bfdddecb992c"
      },
      "execution_count": 25,
      "outputs": [
        {
          "output_type": "stream",
          "name": "stdout",
          "text": [
            "hello my friends\n"
          ]
        }
      ]
    },
    {
      "cell_type": "code",
      "source": [
        "txt = \"     banana     \"\n",
        "\n",
        "x = txt.lstrip()\n",
        "\n",
        "print(\"of all fruits\", x, \"is my favorite\")\n"
      ],
      "metadata": {
        "colab": {
          "base_uri": "https://localhost:8080/"
        },
        "id": "faWhXGeUcEE4",
        "outputId": "2d50c004-7b7e-438e-bac1-0185edbb89ba"
      },
      "execution_count": 26,
      "outputs": [
        {
          "output_type": "stream",
          "name": "stdout",
          "text": [
            "of all fruits banana      is my favorite\n"
          ]
        }
      ]
    },
    {
      "cell_type": "code",
      "source": [
        "txt = \"Hello Sam!\"\n",
        "mytable = str.maketrans(\"S\", \"P\")\n",
        "print(txt.translate(mytable))"
      ],
      "metadata": {
        "colab": {
          "base_uri": "https://localhost:8080/"
        },
        "id": "XQmqa_eRcIJs",
        "outputId": "d74bbce2-3d9a-4d1f-c3b1-4df8461b43ea"
      },
      "execution_count": 27,
      "outputs": [
        {
          "output_type": "stream",
          "name": "stdout",
          "text": [
            "Hello Pam!\n"
          ]
        }
      ]
    },
    {
      "cell_type": "code",
      "source": [
        "txt = \"I could eat bananas all day\"\n",
        "\n",
        "x = txt.partition(\"bananas\")\n",
        "\n",
        "print(x)"
      ],
      "metadata": {
        "colab": {
          "base_uri": "https://localhost:8080/"
        },
        "id": "X1oI7EqEcLsZ",
        "outputId": "5e7b9dd8-3981-4bff-9af8-fe5ae3760953"
      },
      "execution_count": 28,
      "outputs": [
        {
          "output_type": "stream",
          "name": "stdout",
          "text": [
            "('I could eat ', 'bananas', ' all day')\n"
          ]
        }
      ]
    },
    {
      "cell_type": "code",
      "source": [
        "txt = \"I like bananas\"\n",
        "\n",
        "x = txt.replace(\"bananas\", \"apples\")\n",
        "\n",
        "print(x)"
      ],
      "metadata": {
        "colab": {
          "base_uri": "https://localhost:8080/"
        },
        "id": "QZvra9lNcQMu",
        "outputId": "6a02d44d-9b54-4a73-a8f3-cc2bb71972e4"
      },
      "execution_count": 29,
      "outputs": [
        {
          "output_type": "stream",
          "name": "stdout",
          "text": [
            "I like apples\n"
          ]
        }
      ]
    },
    {
      "cell_type": "code",
      "source": [
        "txt = \"Mi casa, su casa.\"\n",
        "\n",
        "x = txt.rfind(\"casa\")\n",
        "\n",
        "print(x)"
      ],
      "metadata": {
        "colab": {
          "base_uri": "https://localhost:8080/"
        },
        "id": "7zYT7ZZQcUHv",
        "outputId": "ffefcb6a-4069-4f97-842a-941bb0576f3d"
      },
      "execution_count": 30,
      "outputs": [
        {
          "output_type": "stream",
          "name": "stdout",
          "text": [
            "12\n"
          ]
        }
      ]
    },
    {
      "cell_type": "code",
      "source": [
        "txt = \"Mi casa, su casa.\"\n",
        "\n",
        "x = txt.rindex(\"casa\")\n",
        "\n",
        "print(x)"
      ],
      "metadata": {
        "colab": {
          "base_uri": "https://localhost:8080/"
        },
        "id": "8iVRST40cYWP",
        "outputId": "0f23bbf2-421d-4375-bd12-a4cbddd38187"
      },
      "execution_count": 31,
      "outputs": [
        {
          "output_type": "stream",
          "name": "stdout",
          "text": [
            "12\n"
          ]
        }
      ]
    },
    {
      "cell_type": "code",
      "source": [
        "txt = \"banana\"\n",
        "\n",
        "x = txt.rjust(20)\n",
        "\n",
        "print(x, \"is my favorite fruit.\")\n"
      ],
      "metadata": {
        "colab": {
          "base_uri": "https://localhost:8080/"
        },
        "id": "xZ82z5GqcbwU",
        "outputId": "ad42612b-e15e-4578-d49f-79b4d0e96c9c"
      },
      "execution_count": 32,
      "outputs": [
        {
          "output_type": "stream",
          "name": "stdout",
          "text": [
            "              banana is my favorite fruit.\n"
          ]
        }
      ]
    },
    {
      "cell_type": "code",
      "source": [
        "\n",
        "txt = \"I could eat bananas all day, bananas are my favorite fruit\"\n",
        "\n",
        "x = txt.rpartition(\"bananas\")\n",
        "\n",
        "print(x)\n"
      ],
      "metadata": {
        "colab": {
          "base_uri": "https://localhost:8080/"
        },
        "id": "MBrn_303ch8K",
        "outputId": "d99bc19d-2f0c-44df-b09d-f1c4b351e7c0"
      },
      "execution_count": 33,
      "outputs": [
        {
          "output_type": "stream",
          "name": "stdout",
          "text": [
            "('I could eat bananas all day, ', 'bananas', ' are my favorite fruit')\n"
          ]
        }
      ]
    },
    {
      "cell_type": "code",
      "source": [
        "txt = \"apple, banana, cherry\"\n",
        "\n",
        "x = txt.rsplit(\", \")\n",
        "\n",
        "print(x)"
      ],
      "metadata": {
        "colab": {
          "base_uri": "https://localhost:8080/"
        },
        "id": "kV1g4EpZcoTC",
        "outputId": "abe3140b-2531-45ec-ef19-1a05b75b68ac"
      },
      "execution_count": 34,
      "outputs": [
        {
          "output_type": "stream",
          "name": "stdout",
          "text": [
            "['apple', 'banana', 'cherry']\n"
          ]
        }
      ]
    },
    {
      "cell_type": "code",
      "source": [
        "txt = \"welcome to the jungle\"\n",
        "\n",
        "x = txt.split()\n",
        "\n",
        "print(x)"
      ],
      "metadata": {
        "colab": {
          "base_uri": "https://localhost:8080/"
        },
        "id": "tYQdc2kAcr2D",
        "outputId": "3bea636c-f7fc-4c59-e36a-9d91a928b823"
      },
      "execution_count": 35,
      "outputs": [
        {
          "output_type": "stream",
          "name": "stdout",
          "text": [
            "['welcome', 'to', 'the', 'jungle']\n"
          ]
        }
      ]
    },
    {
      "cell_type": "code",
      "source": [
        "txt = \"Thank you for the music\\nWelcome to the jungle\"\n",
        "\n",
        "x = txt.splitlines()\n",
        "\n",
        "print(x)\n"
      ],
      "metadata": {
        "colab": {
          "base_uri": "https://localhost:8080/"
        },
        "id": "KemikDSzcvjW",
        "outputId": "8b6b183f-5565-486c-92fb-c15a4a340893"
      },
      "execution_count": 36,
      "outputs": [
        {
          "output_type": "stream",
          "name": "stdout",
          "text": [
            "['Thank you for the music', 'Welcome to the jungle']\n"
          ]
        }
      ]
    },
    {
      "cell_type": "code",
      "source": [
        "txt = \"Hello, welcome to my world.\"\n",
        "\n",
        "x = txt.startswith(\"Hello\")\n",
        "\n",
        "print(x)"
      ],
      "metadata": {
        "colab": {
          "base_uri": "https://localhost:8080/"
        },
        "id": "iR77BdOMczWQ",
        "outputId": "71730376-28d2-4a13-a286-0659940682ec"
      },
      "execution_count": 37,
      "outputs": [
        {
          "output_type": "stream",
          "name": "stdout",
          "text": [
            "True\n"
          ]
        }
      ]
    },
    {
      "cell_type": "code",
      "source": [
        "txt = \"     banana     \"\n",
        "\n",
        "x = txt.strip()\n",
        "\n",
        "print(\"of all fruits\", x, \"is my favorite\")\n"
      ],
      "metadata": {
        "colab": {
          "base_uri": "https://localhost:8080/"
        },
        "id": "RZovAgYDc3Oj",
        "outputId": "cf81f63b-678e-4203-a692-1e2f6388f10f"
      },
      "execution_count": 38,
      "outputs": [
        {
          "output_type": "stream",
          "name": "stdout",
          "text": [
            "of all fruits banana is my favorite\n"
          ]
        }
      ]
    },
    {
      "cell_type": "code",
      "source": [
        "txt = \"Hello My Name Is PETER\"\n",
        "\n",
        "x = txt.swapcase()\n",
        "\n",
        "print(x)"
      ],
      "metadata": {
        "colab": {
          "base_uri": "https://localhost:8080/"
        },
        "id": "nlgNSWg_c9L0",
        "outputId": "06cb4cd4-bbb2-4f07-97a5-294f067151fb"
      },
      "execution_count": 39,
      "outputs": [
        {
          "output_type": "stream",
          "name": "stdout",
          "text": [
            "hELLO mY nAME iS peter\n"
          ]
        }
      ]
    },
    {
      "cell_type": "code",
      "source": [
        "txt = \"Welcome to my world\"\n",
        "\n",
        "x = txt.title()\n",
        "\n",
        "print(x)"
      ],
      "metadata": {
        "colab": {
          "base_uri": "https://localhost:8080/"
        },
        "id": "M0sIeFHTdDf4",
        "outputId": "cae0f6e9-2fff-4fba-d3df-69606187660e"
      },
      "execution_count": 40,
      "outputs": [
        {
          "output_type": "stream",
          "name": "stdout",
          "text": [
            "Welcome To My World\n"
          ]
        }
      ]
    },
    {
      "cell_type": "code",
      "source": [
        "#use a dictionary with ascii codes to replace 83 (S) with 80 (P):\n",
        "mydict = {83:  80}\n",
        "txt = \"Hello Sam!\"\n",
        "print(txt.translate(mydict))\n"
      ],
      "metadata": {
        "colab": {
          "base_uri": "https://localhost:8080/"
        },
        "id": "H1G-SDfadJGd",
        "outputId": "0e2389ce-e30b-4b78-a00d-e71461eb3de9"
      },
      "execution_count": 41,
      "outputs": [
        {
          "output_type": "stream",
          "name": "stdout",
          "text": [
            "Hello Pam!\n"
          ]
        }
      ]
    },
    {
      "cell_type": "code",
      "source": [
        "txt = \"Hello my friends\"\n",
        "\n",
        "x = txt.upper()\n",
        "\n",
        "print(x)\n"
      ],
      "metadata": {
        "colab": {
          "base_uri": "https://localhost:8080/"
        },
        "id": "bXjKqWSqdK9Q",
        "outputId": "2e476c53-6a53-4fd6-c08e-cea60e560c87"
      },
      "execution_count": 42,
      "outputs": [
        {
          "output_type": "stream",
          "name": "stdout",
          "text": [
            "HELLO MY FRIENDS\n"
          ]
        }
      ]
    },
    {
      "cell_type": "code",
      "source": [
        "txt = \"50\"\n",
        "\n",
        "x = txt.zfill(10)\n",
        "\n",
        "print(x)"
      ],
      "metadata": {
        "colab": {
          "base_uri": "https://localhost:8080/"
        },
        "id": "x2JFuSQzdRQF",
        "outputId": "dd88035e-0902-4b4f-a9fc-f3e3853b4a0d"
      },
      "execution_count": 43,
      "outputs": [
        {
          "output_type": "stream",
          "name": "stdout",
          "text": [
            "0000000050\n"
          ]
        }
      ]
    },
    {
      "cell_type": "markdown",
      "source": [
        "LIST METHODS"
      ],
      "metadata": {
        "id": "WcBR7qd7dSrg"
      }
    },
    {
      "cell_type": "code",
      "source": [
        "fruits = [\"apple\", \"banana\", \"cherry\"]\n",
        "\n",
        "fruits.append(\"orange\")\n",
        "\n",
        "print(fruits)\n"
      ],
      "metadata": {
        "colab": {
          "base_uri": "https://localhost:8080/"
        },
        "id": "gBPcTh4gdZ-1",
        "outputId": "0aa50dab-9821-435f-8d6b-b452d805074a"
      },
      "execution_count": 47,
      "outputs": [
        {
          "output_type": "stream",
          "name": "stdout",
          "text": [
            "['apple', 'banana', 'cherry', 'orange']\n"
          ]
        }
      ]
    },
    {
      "cell_type": "code",
      "source": [
        "fruits = [\"apple\", \"banana\", \"cherry\"]\n",
        "\n",
        "fruits.clear()\n",
        "\n",
        "print(fruits)\n"
      ],
      "metadata": {
        "colab": {
          "base_uri": "https://localhost:8080/"
        },
        "id": "_r-XWTdzdgIf",
        "outputId": "93aa63b7-25cb-4af1-9cf8-4a98a4934c73"
      },
      "execution_count": 46,
      "outputs": [
        {
          "output_type": "stream",
          "name": "stdout",
          "text": [
            "[]\n"
          ]
        }
      ]
    },
    {
      "cell_type": "code",
      "source": [
        "fruits = [\"apple\", \"banana\", \"cherry\"]\n",
        "\n",
        "x = fruits.copy()\n",
        "\n",
        "print(x)\n"
      ],
      "metadata": {
        "colab": {
          "base_uri": "https://localhost:8080/"
        },
        "id": "Iw1fy5qSd6bU",
        "outputId": "612e0423-362e-4463-f777-fd2cb1cfd0fd"
      },
      "execution_count": 48,
      "outputs": [
        {
          "output_type": "stream",
          "name": "stdout",
          "text": [
            "['apple', 'banana', 'cherry']\n"
          ]
        }
      ]
    },
    {
      "cell_type": "code",
      "source": [
        "fruits = [\"apple\", \"banana\", \"cherry\"]\n",
        "\n",
        "x = fruits.count(\"cherry\")\n",
        "\n",
        "print(x)\n"
      ],
      "metadata": {
        "colab": {
          "base_uri": "https://localhost:8080/"
        },
        "id": "qfitzT1HeBC8",
        "outputId": "0e5448a5-af72-420f-cc74-aea039008b2a"
      },
      "execution_count": 49,
      "outputs": [
        {
          "output_type": "stream",
          "name": "stdout",
          "text": [
            "1\n"
          ]
        }
      ]
    },
    {
      "cell_type": "code",
      "source": [
        "fruits = ['apple', 'banana', 'cherry']\n",
        "\n",
        "cars = ['Ford', 'BMW', 'Volvo']\n",
        "\n",
        "fruits.extend(cars)\n",
        "\n",
        "print(fruits)\n"
      ],
      "metadata": {
        "colab": {
          "base_uri": "https://localhost:8080/"
        },
        "id": "s6RlCQrdeF3F",
        "outputId": "f16fd5bd-4d0b-4bd2-b981-3d8483c16ea7"
      },
      "execution_count": 50,
      "outputs": [
        {
          "output_type": "stream",
          "name": "stdout",
          "text": [
            "['apple', 'banana', 'cherry', 'Ford', 'BMW', 'Volvo']\n"
          ]
        }
      ]
    },
    {
      "cell_type": "code",
      "source": [
        "fruits = ['apple', 'banana', 'cherry']\n",
        "\n",
        "x = fruits.index(\"cherry\")\n",
        "\n",
        "print(x)\n"
      ],
      "metadata": {
        "colab": {
          "base_uri": "https://localhost:8080/"
        },
        "id": "or_7RmaPeNEK",
        "outputId": "24f2d6d9-6ffd-4ffd-d758-66410a7aa5f2"
      },
      "execution_count": 51,
      "outputs": [
        {
          "output_type": "stream",
          "name": "stdout",
          "text": [
            "2\n"
          ]
        }
      ]
    },
    {
      "cell_type": "code",
      "source": [
        "fruits = ['apple', 'banana', 'cherry']\n",
        "\n",
        "fruits.insert(1, \"orange\")\n",
        "\n",
        "print(fruits)\n"
      ],
      "metadata": {
        "colab": {
          "base_uri": "https://localhost:8080/"
        },
        "id": "Mf5HaAHbeRdG",
        "outputId": "9c9dae76-8aa2-4ada-c0a0-4b1e54ff5aa0"
      },
      "execution_count": 52,
      "outputs": [
        {
          "output_type": "stream",
          "name": "stdout",
          "text": [
            "['apple', 'orange', 'banana', 'cherry']\n"
          ]
        }
      ]
    },
    {
      "cell_type": "code",
      "source": [
        "fruits = ['apple', 'banana', 'cherry']\n",
        "\n",
        "fruits.pop(1)\n",
        "\n",
        "print(fruits)\n"
      ],
      "metadata": {
        "colab": {
          "base_uri": "https://localhost:8080/"
        },
        "id": "KwEVbL36eWvs",
        "outputId": "84e34e02-ad05-45fb-893e-88b5e0efda6d"
      },
      "execution_count": 53,
      "outputs": [
        {
          "output_type": "stream",
          "name": "stdout",
          "text": [
            "['apple', 'cherry']\n"
          ]
        }
      ]
    },
    {
      "cell_type": "code",
      "source": [
        "fruits = ['apple', 'banana', 'cherry']\n",
        "\n",
        "fruits.remove(\"banana\")\n",
        "\n",
        "print(fruits)"
      ],
      "metadata": {
        "colab": {
          "base_uri": "https://localhost:8080/"
        },
        "id": "l-WhIBiueYmK",
        "outputId": "dcbfa8db-6bb1-4027-9c89-751c63f5e2a5"
      },
      "execution_count": 54,
      "outputs": [
        {
          "output_type": "stream",
          "name": "stdout",
          "text": [
            "['apple', 'cherry']\n"
          ]
        }
      ]
    },
    {
      "cell_type": "code",
      "source": [
        "fruits = ['apple', 'banana', 'cherry']\n",
        "\n",
        "fruits.reverse()\n",
        "\n",
        "print(fruits)"
      ],
      "metadata": {
        "colab": {
          "base_uri": "https://localhost:8080/"
        },
        "id": "KrQsx4zxeluI",
        "outputId": "1999a74d-1ef4-4b4f-bab3-7ed9911d7047"
      },
      "execution_count": 55,
      "outputs": [
        {
          "output_type": "stream",
          "name": "stdout",
          "text": [
            "['cherry', 'banana', 'apple']\n"
          ]
        }
      ]
    },
    {
      "cell_type": "code",
      "source": [
        "cars = ['Ford', 'BMW', 'Volvo']\n",
        "\n",
        "cars.sort()\n",
        "\n",
        "print(cars)\n"
      ],
      "metadata": {
        "colab": {
          "base_uri": "https://localhost:8080/"
        },
        "id": "7ne9vzMWeq7L",
        "outputId": "9b6940fa-beb8-4802-857a-40ff4af1c62c"
      },
      "execution_count": 56,
      "outputs": [
        {
          "output_type": "stream",
          "name": "stdout",
          "text": [
            "['BMW', 'Ford', 'Volvo']\n"
          ]
        }
      ]
    },
    {
      "cell_type": "markdown",
      "source": [
        "DICTIONARY METHODS"
      ],
      "metadata": {
        "id": "nUSn7_LMezR7"
      }
    },
    {
      "cell_type": "code",
      "source": [
        "car = {\n",
        "  \"brand\": \"Ford\",\n",
        "  \"model\": \"Mustang\",\n",
        "  \"year\": 1964\n",
        "}\n",
        "\n",
        "car.clear()\n",
        "\n",
        "print(car)"
      ],
      "metadata": {
        "colab": {
          "base_uri": "https://localhost:8080/"
        },
        "id": "4Im2KRqve2W3",
        "outputId": "599030bf-2d84-4a7a-f770-664354f1d30a"
      },
      "execution_count": 57,
      "outputs": [
        {
          "output_type": "stream",
          "name": "stdout",
          "text": [
            "{}\n"
          ]
        }
      ]
    },
    {
      "cell_type": "code",
      "source": [
        "car = {\n",
        "  \"brand\": \"Ford\",\n",
        "  \"model\": \"Mustang\",\n",
        "  \"year\": 1964\n",
        "}\n",
        "\n",
        "x = car.copy()\n",
        "\n",
        "print(x)"
      ],
      "metadata": {
        "colab": {
          "base_uri": "https://localhost:8080/"
        },
        "id": "eIOdNxJNe9qX",
        "outputId": "efe5e802-ff16-4b88-82a7-b2ea334081a1"
      },
      "execution_count": 58,
      "outputs": [
        {
          "output_type": "stream",
          "name": "stdout",
          "text": [
            "{'brand': 'Ford', 'model': 'Mustang', 'year': 1964}\n"
          ]
        }
      ]
    },
    {
      "cell_type": "code",
      "source": [
        "x = ('key1', 'key2', 'key3')\n",
        "y = 0\n",
        "\n",
        "thisdict = dict.fromkeys(x, y)\n",
        "\n",
        "print(thisdict)"
      ],
      "metadata": {
        "colab": {
          "base_uri": "https://localhost:8080/"
        },
        "id": "rM2vsdwBfDlX",
        "outputId": "356dc2f9-3e14-4062-f074-2b8a7e306605"
      },
      "execution_count": 59,
      "outputs": [
        {
          "output_type": "stream",
          "name": "stdout",
          "text": [
            "{'key1': 0, 'key2': 0, 'key3': 0}\n"
          ]
        }
      ]
    },
    {
      "cell_type": "code",
      "source": [
        "car = {\n",
        "  \"brand\": \"Ford\",\n",
        "  \"model\": \"Mustang\",\n",
        "  \"year\": 1964\n",
        "}\n",
        "\n",
        "x = car.get(\"model\")\n",
        "\n",
        "print(x)"
      ],
      "metadata": {
        "colab": {
          "base_uri": "https://localhost:8080/"
        },
        "id": "zHZKX1WKfHPn",
        "outputId": "32f65ba8-2041-44d9-d751-be489e3ad6b9"
      },
      "execution_count": 60,
      "outputs": [
        {
          "output_type": "stream",
          "name": "stdout",
          "text": [
            "Mustang\n"
          ]
        }
      ]
    },
    {
      "cell_type": "code",
      "source": [
        "car = {\n",
        "  \"brand\": \"Ford\",\n",
        "  \"model\": \"Mustang\",\n",
        "  \"year\": 1964\n",
        "}\n",
        "\n",
        "x = car.items()\n",
        "\n",
        "print(x)"
      ],
      "metadata": {
        "colab": {
          "base_uri": "https://localhost:8080/"
        },
        "id": "wRsc0ZUlfKxK",
        "outputId": "98974a9b-17c2-4dfa-8a83-5a1a209e819c"
      },
      "execution_count": 61,
      "outputs": [
        {
          "output_type": "stream",
          "name": "stdout",
          "text": [
            "dict_items([('brand', 'Ford'), ('model', 'Mustang'), ('year', 1964)])\n"
          ]
        }
      ]
    },
    {
      "cell_type": "code",
      "source": [
        "car = {\n",
        "  \"brand\": \"Ford\",\n",
        "  \"model\": \"Mustang\",\n",
        "  \"year\": 1964\n",
        "}\n",
        "\n",
        "x = car.keys()\n",
        "\n",
        "print(x)\n"
      ],
      "metadata": {
        "colab": {
          "base_uri": "https://localhost:8080/"
        },
        "id": "JQkz5w9vfOFx",
        "outputId": "f7d9aa41-ea2a-4c84-e8e3-02ca9a4b5cdc"
      },
      "execution_count": 62,
      "outputs": [
        {
          "output_type": "stream",
          "name": "stdout",
          "text": [
            "dict_keys(['brand', 'model', 'year'])\n"
          ]
        }
      ]
    },
    {
      "cell_type": "code",
      "source": [
        "car = {\n",
        "  \"brand\": \"Ford\",\n",
        "  \"model\": \"Mustang\",\n",
        "  \"year\": 1964\n",
        "}\n",
        "\n",
        "car.pop(\"model\")\n",
        "\n",
        "print(car)\n"
      ],
      "metadata": {
        "colab": {
          "base_uri": "https://localhost:8080/"
        },
        "id": "A7KJgIDZfRaD",
        "outputId": "1cdb4240-20cd-4ecc-8046-b0df162a54d7"
      },
      "execution_count": 63,
      "outputs": [
        {
          "output_type": "stream",
          "name": "stdout",
          "text": [
            "{'brand': 'Ford', 'year': 1964}\n"
          ]
        }
      ]
    },
    {
      "cell_type": "code",
      "source": [
        "car = {\n",
        "  \"brand\": \"Ford\",\n",
        "  \"model\": \"Mustang\",\n",
        "  \"year\": 1964\n",
        "}\n",
        "\n",
        "car.popitem()\n",
        "\n",
        "print(car)"
      ],
      "metadata": {
        "colab": {
          "base_uri": "https://localhost:8080/"
        },
        "id": "6ggSlWp4fWYV",
        "outputId": "5ccc2d32-9d21-4202-da60-6c22e74b6867"
      },
      "execution_count": 64,
      "outputs": [
        {
          "output_type": "stream",
          "name": "stdout",
          "text": [
            "{'brand': 'Ford', 'model': 'Mustang'}\n"
          ]
        }
      ]
    },
    {
      "cell_type": "code",
      "source": [
        "car = {\n",
        "  \"brand\": \"Ford\",\n",
        "  \"model\": \"Mustang\",\n",
        "  \"year\": 1964\n",
        "}\n",
        "\n",
        "x = car.setdefault(\"model\", \"Bronco\")\n",
        "\n",
        "print(x)"
      ],
      "metadata": {
        "colab": {
          "base_uri": "https://localhost:8080/"
        },
        "id": "gyXb2S9cfaQg",
        "outputId": "b4ad986d-8c0a-413a-a62e-48b61eecd533"
      },
      "execution_count": 65,
      "outputs": [
        {
          "output_type": "stream",
          "name": "stdout",
          "text": [
            "Mustang\n"
          ]
        }
      ]
    },
    {
      "cell_type": "code",
      "source": [
        "car = {\n",
        "  \"brand\": \"Ford\",\n",
        "  \"model\": \"Mustang\",\n",
        "  \"year\": 1964\n",
        "}\n",
        "\n",
        "car.update({\"color\": \"White\"})\n",
        "\n",
        "print(car)"
      ],
      "metadata": {
        "colab": {
          "base_uri": "https://localhost:8080/"
        },
        "id": "042CVyKkffEP",
        "outputId": "32b9fc83-549a-4c6b-c2e5-ca10279730d2"
      },
      "execution_count": 66,
      "outputs": [
        {
          "output_type": "stream",
          "name": "stdout",
          "text": [
            "{'brand': 'Ford', 'model': 'Mustang', 'year': 1964, 'color': 'White'}\n"
          ]
        }
      ]
    },
    {
      "cell_type": "code",
      "source": [
        "car = {\n",
        "  \"brand\": \"Ford\",\n",
        "  \"model\": \"Mustang\",\n",
        "  \"year\": 1964\n",
        "}\n",
        "\n",
        "x = car.values()\n",
        "\n",
        "print(x)"
      ],
      "metadata": {
        "colab": {
          "base_uri": "https://localhost:8080/"
        },
        "id": "1ZAQJQXTfhlO",
        "outputId": "7c10b391-50dd-4a43-eb1e-e04a407a554a"
      },
      "execution_count": 67,
      "outputs": [
        {
          "output_type": "stream",
          "name": "stdout",
          "text": [
            "dict_values(['Ford', 'Mustang', 1964])\n"
          ]
        }
      ]
    },
    {
      "cell_type": "markdown",
      "source": [
        "TUPLE METHODS"
      ],
      "metadata": {
        "id": "nqcrCrDafo3s"
      }
    },
    {
      "cell_type": "code",
      "source": [
        "thistuple = (1, 3, 7, 8, 7, 5, 4, 6, 8, 5)\n",
        "\n",
        "x = thistuple.count(5)\n",
        "\n",
        "print(x)"
      ],
      "metadata": {
        "colab": {
          "base_uri": "https://localhost:8080/"
        },
        "id": "UBsIJHbdfqhU",
        "outputId": "f3502090-2134-4d3c-e6f8-4e716c1fd4a7"
      },
      "execution_count": 68,
      "outputs": [
        {
          "output_type": "stream",
          "name": "stdout",
          "text": [
            "2\n"
          ]
        }
      ]
    },
    {
      "cell_type": "code",
      "source": [
        "thistuple = (1, 3, 7, 8, 7, 5, 4, 6, 8, 5)\n",
        "\n",
        "x = thistuple.index(8)\n",
        "\n",
        "print(x)\n"
      ],
      "metadata": {
        "colab": {
          "base_uri": "https://localhost:8080/"
        },
        "id": "yOVQsU9Jf3o7",
        "outputId": "cc1e9af5-4c0f-4c47-ca22-227536a8599f"
      },
      "execution_count": 69,
      "outputs": [
        {
          "output_type": "stream",
          "name": "stdout",
          "text": [
            "3\n"
          ]
        }
      ]
    },
    {
      "cell_type": "markdown",
      "source": [
        "SET METHODS"
      ],
      "metadata": {
        "id": "X8uQiyYcf8jg"
      }
    },
    {
      "cell_type": "code",
      "source": [
        "fruits = {\"apple\", \"banana\", \"cherry\"}\n",
        "\n",
        "fruits.add(\"orange\")\n",
        "\n",
        "print(fruits)"
      ],
      "metadata": {
        "colab": {
          "base_uri": "https://localhost:8080/"
        },
        "id": "4eg9h6iNf-IV",
        "outputId": "0646d350-501b-4b76-fe10-87cc8ba294b4"
      },
      "execution_count": 70,
      "outputs": [
        {
          "output_type": "stream",
          "name": "stdout",
          "text": [
            "{'banana', 'apple', 'orange', 'cherry'}\n"
          ]
        }
      ]
    },
    {
      "cell_type": "code",
      "source": [
        "fruits = {\"apple\", \"banana\", \"cherry\"}\n",
        "\n",
        "fruits.clear()\n",
        "\n",
        "print(fruits)\n"
      ],
      "metadata": {
        "colab": {
          "base_uri": "https://localhost:8080/"
        },
        "id": "blGQ_AqCgCK0",
        "outputId": "ad7fc454-42c6-4643-b66a-476e9ee0be2a"
      },
      "execution_count": 71,
      "outputs": [
        {
          "output_type": "stream",
          "name": "stdout",
          "text": [
            "set()\n"
          ]
        }
      ]
    },
    {
      "cell_type": "code",
      "source": [
        "fruits = {\"apple\", \"banana\", \"cherry\"}\n",
        "\n",
        "x = fruits.copy()\n",
        "\n",
        "print(x)"
      ],
      "metadata": {
        "colab": {
          "base_uri": "https://localhost:8080/"
        },
        "id": "5GRb-AVAgGF7",
        "outputId": "0f0f67fc-5601-496c-9662-b5355e7ffd58"
      },
      "execution_count": 72,
      "outputs": [
        {
          "output_type": "stream",
          "name": "stdout",
          "text": [
            "{'banana', 'apple', 'cherry'}\n"
          ]
        }
      ]
    },
    {
      "cell_type": "code",
      "source": [
        "x = {\"apple\", \"banana\", \"cherry\"}\n",
        "y = {\"google\", \"microsoft\", \"apple\"}\n",
        "\n",
        "z = x.difference(y)\n",
        "\n",
        "print(z)"
      ],
      "metadata": {
        "colab": {
          "base_uri": "https://localhost:8080/"
        },
        "id": "F2YswH7egSsv",
        "outputId": "2909bf4b-b884-4c3b-893a-37506692169e"
      },
      "execution_count": 73,
      "outputs": [
        {
          "output_type": "stream",
          "name": "stdout",
          "text": [
            "{'banana', 'cherry'}\n"
          ]
        }
      ]
    },
    {
      "cell_type": "code",
      "source": [
        "x = {\"apple\", \"banana\", \"cherry\"}\n",
        "y = {\"google\", \"microsoft\", \"apple\"}\n",
        "\n",
        "x.difference_update(y)\n",
        "\n",
        "print(x)"
      ],
      "metadata": {
        "colab": {
          "base_uri": "https://localhost:8080/"
        },
        "id": "JJH6joCKgWgb",
        "outputId": "0b7ddb97-56b0-4684-a1c4-8358a58830cf"
      },
      "execution_count": 74,
      "outputs": [
        {
          "output_type": "stream",
          "name": "stdout",
          "text": [
            "{'banana', 'cherry'}\n"
          ]
        }
      ]
    },
    {
      "cell_type": "code",
      "source": [
        "fruits = {\"apple\", \"banana\", \"cherry\"}\n",
        "\n",
        "fruits.discard(\"banana\")\n",
        "\n",
        "print(fruits)"
      ],
      "metadata": {
        "colab": {
          "base_uri": "https://localhost:8080/"
        },
        "id": "Z4M1bm2mghs3",
        "outputId": "e62b62a5-5dff-41de-9b00-a7d5b7efb381"
      },
      "execution_count": 75,
      "outputs": [
        {
          "output_type": "stream",
          "name": "stdout",
          "text": [
            "{'apple', 'cherry'}\n"
          ]
        }
      ]
    },
    {
      "cell_type": "code",
      "source": [
        "x = {\"apple\", \"banana\", \"cherry\"}\n",
        "y = {\"google\", \"microsoft\", \"apple\"}\n",
        "\n",
        "z = x.intersection(y)\n",
        "\n",
        "print(z)"
      ],
      "metadata": {
        "colab": {
          "base_uri": "https://localhost:8080/"
        },
        "id": "qeev66BfglKN",
        "outputId": "dba3d253-ca1d-4280-e2c2-c4899625df8a"
      },
      "execution_count": 76,
      "outputs": [
        {
          "output_type": "stream",
          "name": "stdout",
          "text": [
            "{'apple'}\n"
          ]
        }
      ]
    },
    {
      "cell_type": "code",
      "source": [
        "x = {\"apple\", \"banana\", \"cherry\"}\n",
        "y = {\"google\", \"microsoft\", \"apple\"}\n",
        "\n",
        "x.intersection_update(y)\n",
        "\n",
        "print(x)"
      ],
      "metadata": {
        "colab": {
          "base_uri": "https://localhost:8080/"
        },
        "id": "r5yxTpKxgoau",
        "outputId": "5ab997e8-5585-40ba-f2b7-5eaaacfe82c7"
      },
      "execution_count": 77,
      "outputs": [
        {
          "output_type": "stream",
          "name": "stdout",
          "text": [
            "{'apple'}\n"
          ]
        }
      ]
    },
    {
      "cell_type": "code",
      "source": [
        "x = {\"apple\", \"banana\", \"cherry\"}\n",
        "y = {\"google\", \"microsoft\", \"facebook\"}\n",
        "\n",
        "z = x.isdisjoint(y)\n",
        "\n",
        "print(z)"
      ],
      "metadata": {
        "colab": {
          "base_uri": "https://localhost:8080/"
        },
        "id": "_Jjrb1UTgrwV",
        "outputId": "ef4981b2-58b9-4203-8882-8c08b0aceda0"
      },
      "execution_count": 78,
      "outputs": [
        {
          "output_type": "stream",
          "name": "stdout",
          "text": [
            "True\n"
          ]
        }
      ]
    },
    {
      "cell_type": "code",
      "source": [
        "x = {\"a\", \"b\", \"c\"}\n",
        "y = {\"f\", \"e\", \"d\", \"c\", \"b\", \"a\"}\n",
        "\n",
        "z = x.issubset(y)\n",
        "\n",
        "print(z)\n"
      ],
      "metadata": {
        "colab": {
          "base_uri": "https://localhost:8080/"
        },
        "id": "wWi-arHUgsxA",
        "outputId": "72b0d01a-a644-4c17-e01d-b72a7eb4aef2"
      },
      "execution_count": 79,
      "outputs": [
        {
          "output_type": "stream",
          "name": "stdout",
          "text": [
            "True\n"
          ]
        }
      ]
    },
    {
      "cell_type": "code",
      "source": [
        "x = {\"f\", \"e\", \"d\", \"c\", \"b\", \"a\"}\n",
        "y = {\"a\", \"b\", \"c\"}\n",
        "\n",
        "z = x.issuperset(y)\n",
        "\n",
        "print(z)\n"
      ],
      "metadata": {
        "colab": {
          "base_uri": "https://localhost:8080/"
        },
        "id": "J2VPIQlPg2TV",
        "outputId": "1555f013-10c5-458e-c6f7-e2565724851f"
      },
      "execution_count": 80,
      "outputs": [
        {
          "output_type": "stream",
          "name": "stdout",
          "text": [
            "True\n"
          ]
        }
      ]
    },
    {
      "cell_type": "code",
      "source": [
        "fruits = {\"apple\", \"banana\", \"cherry\"}\n",
        "\n",
        "fruits.pop()\n",
        "\n",
        "print(fruits)\n"
      ],
      "metadata": {
        "colab": {
          "base_uri": "https://localhost:8080/"
        },
        "id": "kpNupeXfg6-P",
        "outputId": "e8903bd6-8dde-4d84-dc13-20ff2089233a"
      },
      "execution_count": 81,
      "outputs": [
        {
          "output_type": "stream",
          "name": "stdout",
          "text": [
            "{'apple', 'cherry'}\n"
          ]
        }
      ]
    },
    {
      "cell_type": "code",
      "source": [
        "fruits = {\"apple\", \"banana\", \"cherry\"}\n",
        "\n",
        "fruits.remove(\"banana\")\n",
        "\n",
        "print(fruits)"
      ],
      "metadata": {
        "colab": {
          "base_uri": "https://localhost:8080/"
        },
        "id": "HkzsSqBwg7JN",
        "outputId": "c56dc035-968f-4167-d27a-2fdb7eec8062"
      },
      "execution_count": 82,
      "outputs": [
        {
          "output_type": "stream",
          "name": "stdout",
          "text": [
            "{'apple', 'cherry'}\n"
          ]
        }
      ]
    },
    {
      "cell_type": "code",
      "source": [
        "x = {\"apple\", \"banana\", \"cherry\"}\n",
        "y = {\"google\", \"microsoft\", \"apple\"}\n",
        "\n",
        "z = x.symmetric_difference(y)\n",
        "\n",
        "print(z)"
      ],
      "metadata": {
        "colab": {
          "base_uri": "https://localhost:8080/"
        },
        "id": "6VcbRNLghBv3",
        "outputId": "f0cd4855-7733-4ea4-cc2e-00f1944ec3c0"
      },
      "execution_count": 83,
      "outputs": [
        {
          "output_type": "stream",
          "name": "stdout",
          "text": [
            "{'microsoft', 'cherry', 'banana', 'google'}\n"
          ]
        }
      ]
    },
    {
      "cell_type": "code",
      "source": [
        "x = {\"apple\", \"banana\", \"cherry\"}\n",
        "y = {\"google\", \"microsoft\", \"apple\"}\n",
        "\n",
        "x.symmetric_difference_update(y)\n",
        "\n",
        "print(x)"
      ],
      "metadata": {
        "colab": {
          "base_uri": "https://localhost:8080/"
        },
        "id": "ReDptDpXhFNv",
        "outputId": "fb4d7f62-ba39-45d2-9a2d-e709d1da8480"
      },
      "execution_count": 84,
      "outputs": [
        {
          "output_type": "stream",
          "name": "stdout",
          "text": [
            "{'microsoft', 'cherry', 'banana', 'google'}\n"
          ]
        }
      ]
    },
    {
      "cell_type": "code",
      "source": [
        "x = {\"apple\", \"banana\", \"cherry\"}\n",
        "y = {\"google\", \"microsoft\", \"apple\"}\n",
        "\n",
        "z = x.union(y)\n",
        "\n",
        "print(z)"
      ],
      "metadata": {
        "colab": {
          "base_uri": "https://localhost:8080/"
        },
        "id": "sSgu4n4BhIeH",
        "outputId": "f582851b-98e5-4b7f-b557-43e79959a7b7"
      },
      "execution_count": 85,
      "outputs": [
        {
          "output_type": "stream",
          "name": "stdout",
          "text": [
            "{'banana', 'apple', 'microsoft', 'cherry', 'google'}\n"
          ]
        }
      ]
    },
    {
      "cell_type": "code",
      "source": [
        "x = {\"apple\", \"banana\", \"cherry\"}\n",
        "y = {\"google\", \"microsoft\", \"apple\"}\n",
        "\n",
        "x.update(y)\n",
        "\n",
        "print(x)"
      ],
      "metadata": {
        "colab": {
          "base_uri": "https://localhost:8080/"
        },
        "id": "vZg3dS-PhMVE",
        "outputId": "dd3b8606-ffd5-4048-dd41-dfcda9e896c1"
      },
      "execution_count": 86,
      "outputs": [
        {
          "output_type": "stream",
          "name": "stdout",
          "text": [
            "{'banana', 'apple', 'microsoft', 'cherry', 'google'}\n"
          ]
        }
      ]
    },
    {
      "cell_type": "markdown",
      "source": [
        "BUILT IN FUNCTIONS"
      ],
      "metadata": {
        "id": "xjn1yUv5ht18"
      }
    },
    {
      "cell_type": "code",
      "source": [
        "x = abs(-7.25)\n",
        "print(x)\n"
      ],
      "metadata": {
        "colab": {
          "base_uri": "https://localhost:8080/"
        },
        "id": "vutVopD6hwqZ",
        "outputId": "0608141f-cb09-4bca-c1b1-7ec43f12f9a3"
      },
      "execution_count": 87,
      "outputs": [
        {
          "output_type": "stream",
          "name": "stdout",
          "text": [
            "7.25\n"
          ]
        }
      ]
    },
    {
      "cell_type": "code",
      "source": [
        "mylist = [True, True, True]\n",
        "x = all(mylist)\n",
        "print(x)\n"
      ],
      "metadata": {
        "colab": {
          "base_uri": "https://localhost:8080/"
        },
        "id": "T7O50bnph2_F",
        "outputId": "ed22b08a-815b-4b5d-9726-7dcc09de68a8"
      },
      "execution_count": 88,
      "outputs": [
        {
          "output_type": "stream",
          "name": "stdout",
          "text": [
            "True\n"
          ]
        }
      ]
    },
    {
      "cell_type": "code",
      "source": [
        "mylist = [False, True, False]\n",
        "x = any(mylist)\n",
        "print(x)"
      ],
      "metadata": {
        "colab": {
          "base_uri": "https://localhost:8080/"
        },
        "id": "87O4gNpqh7uw",
        "outputId": "6fe02616-6708-4437-c855-34ca5bedde4d"
      },
      "execution_count": 89,
      "outputs": [
        {
          "output_type": "stream",
          "name": "stdout",
          "text": [
            "True\n"
          ]
        }
      ]
    },
    {
      "cell_type": "code",
      "source": [
        "x = ascii(\"My name is Ståle\")\n",
        "print(x)"
      ],
      "metadata": {
        "colab": {
          "base_uri": "https://localhost:8080/"
        },
        "id": "mtAuqa24h_-b",
        "outputId": "96d0066d-3e0f-4086-d85c-f64f187cfdc6"
      },
      "execution_count": 90,
      "outputs": [
        {
          "output_type": "stream",
          "name": "stdout",
          "text": [
            "'My name is St\\xe5le'\n"
          ]
        }
      ]
    },
    {
      "cell_type": "code",
      "source": [
        "x = bin(36)\n",
        "print(x)"
      ],
      "metadata": {
        "colab": {
          "base_uri": "https://localhost:8080/"
        },
        "id": "p_SUiBaSiGsA",
        "outputId": "3e99621f-9bdf-40b0-a287-c8bedcd2a309"
      },
      "execution_count": 91,
      "outputs": [
        {
          "output_type": "stream",
          "name": "stdout",
          "text": [
            "0b100100\n"
          ]
        }
      ]
    },
    {
      "cell_type": "code",
      "source": [
        "x = bin(36)\n",
        "print(x)"
      ],
      "metadata": {
        "colab": {
          "base_uri": "https://localhost:8080/"
        },
        "id": "M5zkdr4AiK59",
        "outputId": "bb5fc84c-e2ac-4a58-9f97-546a65d24a7d"
      },
      "execution_count": 92,
      "outputs": [
        {
          "output_type": "stream",
          "name": "stdout",
          "text": [
            "0b100100\n"
          ]
        }
      ]
    },
    {
      "cell_type": "code",
      "source": [
        "x = bytearray(4)\n",
        "print(x)\n"
      ],
      "metadata": {
        "colab": {
          "base_uri": "https://localhost:8080/"
        },
        "id": "_V4bQhOSiOcY",
        "outputId": "6c95ebe0-713d-42b5-d264-d0911ec4d002"
      },
      "execution_count": 93,
      "outputs": [
        {
          "output_type": "stream",
          "name": "stdout",
          "text": [
            "bytearray(b'\\x00\\x00\\x00\\x00')\n"
          ]
        }
      ]
    },
    {
      "cell_type": "code",
      "source": [
        "x = bytes(4)\n",
        "print(x)\n"
      ],
      "metadata": {
        "colab": {
          "base_uri": "https://localhost:8080/"
        },
        "id": "Kwh46nyyiURm",
        "outputId": "32f4b9e6-7734-4cf1-cc68-cb19c254d906"
      },
      "execution_count": 94,
      "outputs": [
        {
          "output_type": "stream",
          "name": "stdout",
          "text": [
            "b'\\x00\\x00\\x00\\x00'\n"
          ]
        }
      ]
    },
    {
      "cell_type": "code",
      "source": [
        "def x():\n",
        "  a = 5\n",
        "\n",
        "print(callable(x))\n"
      ],
      "metadata": {
        "colab": {
          "base_uri": "https://localhost:8080/"
        },
        "id": "5FUje1FDiXwK",
        "outputId": "f4659d55-67bd-420f-acb2-6ac98ac03e1d"
      },
      "execution_count": 95,
      "outputs": [
        {
          "output_type": "stream",
          "name": "stdout",
          "text": [
            "True\n"
          ]
        }
      ]
    },
    {
      "cell_type": "code",
      "source": [
        "x = chr(97)\n",
        "\n",
        "print(x)\n",
        "\n"
      ],
      "metadata": {
        "colab": {
          "base_uri": "https://localhost:8080/"
        },
        "id": "a5JuysAHiccC",
        "outputId": "dc450557-f926-4ab2-fc37-8acd38ee6457"
      },
      "execution_count": 96,
      "outputs": [
        {
          "output_type": "stream",
          "name": "stdout",
          "text": [
            "a\n"
          ]
        }
      ]
    },
    {
      "cell_type": "code",
      "source": [
        "x = compile('print(55)', 'test', 'eval')\n",
        "exec(x)\n"
      ],
      "metadata": {
        "colab": {
          "base_uri": "https://localhost:8080/"
        },
        "id": "cA5Bfvp8ijhS",
        "outputId": "eff38790-a631-493b-b2ea-7d2cb3f1e09a"
      },
      "execution_count": 97,
      "outputs": [
        {
          "output_type": "stream",
          "name": "stdout",
          "text": [
            "55\n"
          ]
        }
      ]
    },
    {
      "cell_type": "code",
      "source": [
        "x = complex(3, 5)\n",
        "print(x)"
      ],
      "metadata": {
        "colab": {
          "base_uri": "https://localhost:8080/"
        },
        "id": "iClXOZc7iorm",
        "outputId": "cfa6e6ab-cf29-439c-838c-76005b1b737a"
      },
      "execution_count": 98,
      "outputs": [
        {
          "output_type": "stream",
          "name": "stdout",
          "text": [
            "(3+5j)\n"
          ]
        }
      ]
    },
    {
      "cell_type": "code",
      "source": [
        "class Person:\n",
        "  name = \"John\"\n",
        "  age = 36\n",
        "  country = \"Norway\"\n",
        "\n",
        "delattr(Person, 'age')\n"
      ],
      "metadata": {
        "id": "rFrqAJYeit7U"
      },
      "execution_count": 99,
      "outputs": []
    },
    {
      "cell_type": "code",
      "source": [
        "x = dict(name = \"John\", age = 36, country = \"Norway\")\n",
        "\n",
        "print(x)\n"
      ],
      "metadata": {
        "colab": {
          "base_uri": "https://localhost:8080/"
        },
        "id": "kyONxpe0i-D5",
        "outputId": "0d12a7a0-136a-47cd-dee8-33907592054c"
      },
      "execution_count": 100,
      "outputs": [
        {
          "output_type": "stream",
          "name": "stdout",
          "text": [
            "{'name': 'John', 'age': 36, 'country': 'Norway'}\n"
          ]
        }
      ]
    },
    {
      "cell_type": "code",
      "source": [
        "class Person:\n",
        "  name = \"John\"\n",
        "  age = 36\n",
        "  country = \"Norway\"\n",
        "\n",
        "print(dir(Person))"
      ],
      "metadata": {
        "colab": {
          "base_uri": "https://localhost:8080/"
        },
        "id": "pPivmF8DjCO-",
        "outputId": "6b0658a8-94c0-4d29-fb92-c46e5f93ded8"
      },
      "execution_count": 101,
      "outputs": [
        {
          "output_type": "stream",
          "name": "stdout",
          "text": [
            "['__class__', '__delattr__', '__dict__', '__dir__', '__doc__', '__eq__', '__format__', '__ge__', '__getattribute__', '__gt__', '__hash__', '__init__', '__init_subclass__', '__le__', '__lt__', '__module__', '__ne__', '__new__', '__reduce__', '__reduce_ex__', '__repr__', '__setattr__', '__sizeof__', '__str__', '__subclasshook__', '__weakref__', 'age', 'country', 'name']\n"
          ]
        }
      ]
    },
    {
      "cell_type": "code",
      "source": [
        "x = divmod(5, 2)\n",
        "\n",
        "print(x)\n"
      ],
      "metadata": {
        "colab": {
          "base_uri": "https://localhost:8080/"
        },
        "id": "ln3uZQcSjHf3",
        "outputId": "0ec01b30-e584-43cb-ca61-8294fb1843d8"
      },
      "execution_count": 102,
      "outputs": [
        {
          "output_type": "stream",
          "name": "stdout",
          "text": [
            "(2, 1)\n"
          ]
        }
      ]
    },
    {
      "cell_type": "code",
      "source": [
        "x = ('apple', 'banana', 'cherry')\n",
        "y = enumerate(x)\n",
        "\n",
        "print(list(y))\n"
      ],
      "metadata": {
        "colab": {
          "base_uri": "https://localhost:8080/"
        },
        "id": "g9DjJoK_jOnY",
        "outputId": "8d5524d8-c2ad-4127-9071-e47c606ad4a5"
      },
      "execution_count": 103,
      "outputs": [
        {
          "output_type": "stream",
          "name": "stdout",
          "text": [
            "[(0, 'apple'), (1, 'banana'), (2, 'cherry')]\n"
          ]
        }
      ]
    },
    {
      "cell_type": "code",
      "source": [
        "x = 'print(55)'\n",
        "eval(x)"
      ],
      "metadata": {
        "colab": {
          "base_uri": "https://localhost:8080/"
        },
        "id": "DVWAwLmHjTA5",
        "outputId": "4c25fa0e-77c4-488b-c334-4ec831b20cf2"
      },
      "execution_count": 104,
      "outputs": [
        {
          "output_type": "stream",
          "name": "stdout",
          "text": [
            "55\n"
          ]
        }
      ]
    },
    {
      "cell_type": "code",
      "source": [
        "x = 'name = \"John\"\\nprint(name)'\n",
        "exec(x)"
      ],
      "metadata": {
        "colab": {
          "base_uri": "https://localhost:8080/"
        },
        "id": "Quc_4YtQjWs2",
        "outputId": "3a1261a0-5910-4f11-b9d1-f62d4d484097"
      },
      "execution_count": 105,
      "outputs": [
        {
          "output_type": "stream",
          "name": "stdout",
          "text": [
            "John\n"
          ]
        }
      ]
    },
    {
      "cell_type": "code",
      "source": [
        "ages = [5, 12, 17, 18, 24, 32]\n",
        "\n",
        "def myFunc(x):\n",
        "  if x < 18:\n",
        "    return False\n",
        "  else:\n",
        "    return True\n",
        "\n",
        "adults = filter(myFunc, ages)\n",
        "\n",
        "for x in adults:\n",
        "  print(x)"
      ],
      "metadata": {
        "colab": {
          "base_uri": "https://localhost:8080/"
        },
        "id": "vDfSU9ZCjYja",
        "outputId": "f6125ddf-d8f6-41f1-9622-0018a76c0184"
      },
      "execution_count": 106,
      "outputs": [
        {
          "output_type": "stream",
          "name": "stdout",
          "text": [
            "18\n",
            "24\n",
            "32\n"
          ]
        }
      ]
    },
    {
      "cell_type": "code",
      "source": [
        "x = float(3)\n",
        "\n",
        "print(x)\n"
      ],
      "metadata": {
        "colab": {
          "base_uri": "https://localhost:8080/"
        },
        "id": "iznzSGzyjh7f",
        "outputId": "0f257687-d1a4-45e7-9d2a-856735366896"
      },
      "execution_count": 107,
      "outputs": [
        {
          "output_type": "stream",
          "name": "stdout",
          "text": [
            "3.0\n"
          ]
        }
      ]
    },
    {
      "cell_type": "code",
      "source": [
        "x = format(0.5, '%')\n",
        "\n",
        "print(x)\n"
      ],
      "metadata": {
        "colab": {
          "base_uri": "https://localhost:8080/"
        },
        "id": "RcPBMBFGjmQO",
        "outputId": "40d8b7f5-ec5c-475e-c2fa-b45ae8f6caa3"
      },
      "execution_count": 108,
      "outputs": [
        {
          "output_type": "stream",
          "name": "stdout",
          "text": [
            "50.000000%\n"
          ]
        }
      ]
    },
    {
      "cell_type": "code",
      "source": [
        "mylist = ['apple', 'banana', 'cherry']\n",
        "x = frozenset(mylist)\n",
        "print(x)\n"
      ],
      "metadata": {
        "colab": {
          "base_uri": "https://localhost:8080/"
        },
        "id": "WwcfmvU6jtfM",
        "outputId": "6629e596-5015-411b-f5c1-a1a48cdf4814"
      },
      "execution_count": 109,
      "outputs": [
        {
          "output_type": "stream",
          "name": "stdout",
          "text": [
            "frozenset({'banana', 'apple', 'cherry'})\n"
          ]
        }
      ]
    },
    {
      "cell_type": "code",
      "source": [
        "class Person:\n",
        "  name = \"John\"\n",
        "  age = 36\n",
        "  country = \"Norway\"\n",
        "\n",
        "x = getattr(Person, 'age')\n",
        "\n",
        "print(x)\n"
      ],
      "metadata": {
        "colab": {
          "base_uri": "https://localhost:8080/"
        },
        "id": "gmLYcKJPj1kY",
        "outputId": "4998cff8-2401-4ae6-8fcf-3b66ac95f045"
      },
      "execution_count": 110,
      "outputs": [
        {
          "output_type": "stream",
          "name": "stdout",
          "text": [
            "36\n"
          ]
        }
      ]
    },
    {
      "cell_type": "code",
      "source": [
        "x = globals()\n",
        "print(x)"
      ],
      "metadata": {
        "colab": {
          "base_uri": "https://localhost:8080/"
        },
        "id": "EHZhV5o5j7Ao",
        "outputId": "64e22ad7-1fcb-43a9-828d-f4af8eac38ee"
      },
      "execution_count": 111,
      "outputs": [
        {
          "output_type": "stream",
          "name": "stdout",
          "text": [
            "{'__name__': '__main__', '__doc__': 'Automatically created module for IPython interactive environment', '__package__': None, '__loader__': None, '__spec__': None, '__builtin__': <module 'builtins' (built-in)>, '__builtins__': <module 'builtins' (built-in)>, '_ih': ['', 'txt = \"hello, and welcome to my world.\"\\n\\nx = txt.capitalize()\\n\\nprint (x)', 'txt = \"Hello, And Welcome To My World!\"\\n\\nx = txt.casefold()\\n\\nprint(x)', 'txt = \"banana\"\\n\\nx = txt.center(20)\\n\\nprint(x)', 'txt = \"I love apples, apple are my favorite fruit\"\\n\\nx = txt.count(\"apple\")\\n\\nprint(x)', 'txt = \"My name is Ståle\"\\n\\nx = txt.encode()\\n\\nprint(x)', 'txt = \"Hello, welcome to my world.\"\\n\\nx = txt.endswith(\".\")\\n\\nprint(x)', 'txt = \"H\\\\te\\\\tl\\\\tl\\\\to\"\\n\\nx =  txt.expandtabs(2)\\n\\nprint(x)', 'txt = \"Hello, welcome to my world.\"\\n\\nx = txt.find(\"welcome\")\\n\\nprint(x)', 'txt = \"For only {price:.2f} dollars!\"\\nprint(txt.format(price = 49))', 'txt = \"Hello, welcome to my world.\"\\n\\nx = txt.index(\"welcome\")\\n\\nprint(x)', 'txt = \"Company12\"\\n\\nx = txt.isalnum()\\n\\nprint(x)', 'txt = \"CompanyX\"\\n\\nx = txt.isalpha()\\n\\nprint(x)', 'txt = \"Company123\"\\n\\nx = txt.isascii()\\n\\nprint(x)', 'txt = \"1234\"\\n\\nx = txt.isdecimal()\\n\\nprint(x)', 'txt = \"50800\"\\n\\nx = txt.isdigit()\\n\\nprint(x)', 'txt = \"Demo\"\\n\\nx = txt.isidentifier()\\n\\nprint(x)', 'txt = \"hello world!\"\\n\\nx = txt.islower()\\n\\nprint(x)', 'txt = \"565543\"\\n\\nx = txt.isnumeric()\\n\\nprint(x)', 'txt = \"Hello! Are you #1?\"\\n\\nx = txt.isprintable()\\n\\nprint(x)', 'txt = \"   \"\\n\\nx = txt.isspace()\\n\\nprint(x)', 'txt = \"Hello, And Welcome To My World!\"\\n\\nx = txt.istitle()\\n\\nprint(x)', 'txt = \"THIS IS NOW!\"\\n\\nx = txt.isupper()\\n\\nprint(x)', 'myTuple = (\"John\", \"Peter\", \"Vicky\")\\n\\nx = \"#\".join(myTuple)\\n\\nprint(x)', 'txt = \"banana\"\\n\\nx = txt.ljust(20)\\n\\nprint(x, \"is my favorite fruit.\")', 'txt = \"Hello my FRIENDS\"\\n\\nx = txt.lower()\\n\\nprint(x)', 'txt = \"     banana     \"\\n\\nx = txt.lstrip()\\n\\nprint(\"of all fruits\", x, \"is my favorite\")', 'txt = \"Hello Sam!\"\\nmytable = str.maketrans(\"S\", \"P\")\\nprint(txt.translate(mytable))', 'txt = \"I could eat bananas all day\"\\n\\nx = txt.partition(\"bananas\")\\n\\nprint(x)', 'txt = \"I like bananas\"\\n\\nx = txt.replace(\"bananas\", \"apples\")\\n\\nprint(x)', 'txt = \"Mi casa, su casa.\"\\n\\nx = txt.rfind(\"casa\")\\n\\nprint(x)', 'txt = \"Mi casa, su casa.\"\\n\\nx = txt.rindex(\"casa\")\\n\\nprint(x)', 'txt = \"banana\"\\n\\nx = txt.rjust(20)\\n\\nprint(x, \"is my favorite fruit.\")', 'txt = \"I could eat bananas all day, bananas are my favorite fruit\"\\n\\nx = txt.rpartition(\"bananas\")\\n\\nprint(x)', 'txt = \"apple, banana, cherry\"\\n\\nx = txt.rsplit(\", \")\\n\\nprint(x)', 'txt = \"welcome to the jungle\"\\n\\nx = txt.split()\\n\\nprint(x)', 'txt = \"Thank you for the music\\\\nWelcome to the jungle\"\\n\\nx = txt.splitlines()\\n\\nprint(x)', 'txt = \"Hello, welcome to my world.\"\\n\\nx = txt.startswith(\"Hello\")\\n\\nprint(x)', 'txt = \"     banana     \"\\n\\nx = txt.strip()\\n\\nprint(\"of all fruits\", x, \"is my favorite\")', 'txt = \"Hello My Name Is PETER\"\\n\\nx = txt.swapcase()\\n\\nprint(x)', 'txt = \"Welcome to my world\"\\n\\nx = txt.title()\\n\\nprint(x)', '#use a dictionary with ascii codes to replace 83 (S) with 80 (P):\\nmydict = {83:  80}\\ntxt = \"Hello Sam!\"\\nprint(txt.translate(mydict))', 'txt = \"Hello my friends\"\\n\\nx = txt.upper()\\n\\nprint(x)', 'txt = \"50\"\\n\\nx = txt.zfill(10)\\n\\nprint(x)', 'fruits = [\\'apple\\', \\'banana\\', \\'cherry\\']\\nfruits.append(\"orange\")', \"fruits = ['apple', 'banana', 'cherry', 'orange']\\n\\nfruits.clear()\", 'fruits = [\"apple\", \"banana\", \"cherry\"]\\n\\nfruits.clear()\\n\\nprint(fruits)', 'fruits = [\"apple\", \"banana\", \"cherry\"]\\n\\nfruits.append(\"orange\")\\n\\nprint(fruits)', 'fruits = [\"apple\", \"banana\", \"cherry\"]\\n\\nx = fruits.copy()\\n\\nprint(x)', 'fruits = [\"apple\", \"banana\", \"cherry\"]\\n\\nx = fruits.count(\"cherry\")\\n\\nprint(x)', \"fruits = ['apple', 'banana', 'cherry']\\n\\ncars = ['Ford', 'BMW', 'Volvo']\\n\\nfruits.extend(cars)\\n\\nprint(fruits)\", 'fruits = [\\'apple\\', \\'banana\\', \\'cherry\\']\\n\\nx = fruits.index(\"cherry\")\\n\\nprint(x)', 'fruits = [\\'apple\\', \\'banana\\', \\'cherry\\']\\n\\nfruits.insert(1, \"orange\")\\n\\nprint(fruits)', \"fruits = ['apple', 'banana', 'cherry']\\n\\nfruits.pop(1)\\n\\nprint(fruits)\", 'fruits = [\\'apple\\', \\'banana\\', \\'cherry\\']\\n\\nfruits.remove(\"banana\")\\n\\nprint(fruits)', \"fruits = ['apple', 'banana', 'cherry']\\n\\nfruits.reverse()\\n\\nprint(fruits)\", \"cars = ['Ford', 'BMW', 'Volvo']\\n\\ncars.sort()\\n\\nprint(cars)\", 'car = {\\n  \"brand\": \"Ford\",\\n  \"model\": \"Mustang\",\\n  \"year\": 1964\\n}\\n\\ncar.clear()\\n\\nprint(car)', 'car = {\\n  \"brand\": \"Ford\",\\n  \"model\": \"Mustang\",\\n  \"year\": 1964\\n}\\n\\nx = car.copy()\\n\\nprint(x)', \"x = ('key1', 'key2', 'key3')\\ny = 0\\n\\nthisdict = dict.fromkeys(x, y)\\n\\nprint(thisdict)\", 'car = {\\n  \"brand\": \"Ford\",\\n  \"model\": \"Mustang\",\\n  \"year\": 1964\\n}\\n\\nx = car.get(\"model\")\\n\\nprint(x)', 'car = {\\n  \"brand\": \"Ford\",\\n  \"model\": \"Mustang\",\\n  \"year\": 1964\\n}\\n\\nx = car.items()\\n\\nprint(x)', 'car = {\\n  \"brand\": \"Ford\",\\n  \"model\": \"Mustang\",\\n  \"year\": 1964\\n}\\n\\nx = car.keys()\\n\\nprint(x)', 'car = {\\n  \"brand\": \"Ford\",\\n  \"model\": \"Mustang\",\\n  \"year\": 1964\\n}\\n\\ncar.pop(\"model\")\\n\\nprint(car)', 'car = {\\n  \"brand\": \"Ford\",\\n  \"model\": \"Mustang\",\\n  \"year\": 1964\\n}\\n\\ncar.popitem()\\n\\nprint(car)', 'car = {\\n  \"brand\": \"Ford\",\\n  \"model\": \"Mustang\",\\n  \"year\": 1964\\n}\\n\\nx = car.setdefault(\"model\", \"Bronco\")\\n\\nprint(x)', 'car = {\\n  \"brand\": \"Ford\",\\n  \"model\": \"Mustang\",\\n  \"year\": 1964\\n}\\n\\ncar.update({\"color\": \"White\"})\\n\\nprint(car)', 'car = {\\n  \"brand\": \"Ford\",\\n  \"model\": \"Mustang\",\\n  \"year\": 1964\\n}\\n\\nx = car.values()\\n\\nprint(x)', 'thistuple = (1, 3, 7, 8, 7, 5, 4, 6, 8, 5)\\n\\nx = thistuple.count(5)\\n\\nprint(x)', 'thistuple = (1, 3, 7, 8, 7, 5, 4, 6, 8, 5)\\n\\nx = thistuple.index(8)\\n\\nprint(x)', 'fruits = {\"apple\", \"banana\", \"cherry\"}\\n\\nfruits.add(\"orange\")\\n\\nprint(fruits)', 'fruits = {\"apple\", \"banana\", \"cherry\"}\\n\\nfruits.clear()\\n\\nprint(fruits)', 'fruits = {\"apple\", \"banana\", \"cherry\"}\\n\\nx = fruits.copy()\\n\\nprint(x)', 'x = {\"apple\", \"banana\", \"cherry\"}\\ny = {\"google\", \"microsoft\", \"apple\"}\\n\\nz = x.difference(y)\\n\\nprint(z)', 'x = {\"apple\", \"banana\", \"cherry\"}\\ny = {\"google\", \"microsoft\", \"apple\"}\\n\\nx.difference_update(y)\\n\\nprint(x)', 'fruits = {\"apple\", \"banana\", \"cherry\"}\\n\\nfruits.discard(\"banana\")\\n\\nprint(fruits)', 'x = {\"apple\", \"banana\", \"cherry\"}\\ny = {\"google\", \"microsoft\", \"apple\"}\\n\\nz = x.intersection(y)\\n\\nprint(z)', 'x = {\"apple\", \"banana\", \"cherry\"}\\ny = {\"google\", \"microsoft\", \"apple\"}\\n\\nx.intersection_update(y)\\n\\nprint(x)', 'x = {\"apple\", \"banana\", \"cherry\"}\\ny = {\"google\", \"microsoft\", \"facebook\"}\\n\\nz = x.isdisjoint(y)\\n\\nprint(z)', 'x = {\"a\", \"b\", \"c\"}\\ny = {\"f\", \"e\", \"d\", \"c\", \"b\", \"a\"}\\n\\nz = x.issubset(y)\\n\\nprint(z)', 'x = {\"f\", \"e\", \"d\", \"c\", \"b\", \"a\"}\\ny = {\"a\", \"b\", \"c\"}\\n\\nz = x.issuperset(y)\\n\\nprint(z)', 'fruits = {\"apple\", \"banana\", \"cherry\"}\\n\\nfruits.pop()\\n\\nprint(fruits)', 'fruits = {\"apple\", \"banana\", \"cherry\"}\\n\\nfruits.remove(\"banana\")\\n\\nprint(fruits)', 'x = {\"apple\", \"banana\", \"cherry\"}\\ny = {\"google\", \"microsoft\", \"apple\"}\\n\\nz = x.symmetric_difference(y)\\n\\nprint(z)', 'x = {\"apple\", \"banana\", \"cherry\"}\\ny = {\"google\", \"microsoft\", \"apple\"}\\n\\nx.symmetric_difference_update(y)\\n\\nprint(x)', 'x = {\"apple\", \"banana\", \"cherry\"}\\ny = {\"google\", \"microsoft\", \"apple\"}\\n\\nz = x.union(y)\\n\\nprint(z)', 'x = {\"apple\", \"banana\", \"cherry\"}\\ny = {\"google\", \"microsoft\", \"apple\"}\\n\\nx.update(y)\\n\\nprint(x)', 'x = abs(-7.25)\\nprint(x)', 'mylist = [True, True, True]\\nx = all(mylist)\\nprint(x)', 'mylist = [False, True, False]\\nx = any(mylist)\\nprint(x)', 'x = ascii(\"My name is Ståle\")\\nprint(x)', 'x = bin(36)\\nprint(x)', 'x = bin(36)\\nprint(x)', 'x = bytearray(4)\\nprint(x)', 'x = bytes(4)\\nprint(x)', 'def x():\\n  a = 5\\n\\nprint(callable(x))', 'x = chr(97)\\n\\nprint(x)', \"x = compile('print(55)', 'test', 'eval')\\nexec(x)\", 'x = complex(3, 5)\\nprint(x)', 'class Person:\\n  name = \"John\"\\n  age = 36\\n  country = \"Norway\"\\n\\ndelattr(Person, \\'age\\')', 'x = dict(name = \"John\", age = 36, country = \"Norway\")\\n\\nprint(x)', 'class Person:\\n  name = \"John\"\\n  age = 36\\n  country = \"Norway\"\\n\\nprint(dir(Person))', 'x = divmod(5, 2)\\n\\nprint(x)', \"x = ('apple', 'banana', 'cherry')\\ny = enumerate(x)\\n\\nprint(list(y))\", \"x = 'print(55)'\\neval(x)\", 'x = \\'name = \"John\"\\\\nprint(name)\\'\\nexec(x)', 'ages = [5, 12, 17, 18, 24, 32]\\n\\ndef myFunc(x):\\n  if x < 18:\\n    return False\\n  else:\\n    return True\\n\\nadults = filter(myFunc, ages)\\n\\nfor x in adults:\\n  print(x)', 'x = float(3)\\n\\nprint(x)', \"x = format(0.5, '%')\\n\\nprint(x)\", \"mylist = ['apple', 'banana', 'cherry']\\nx = frozenset(mylist)\\nprint(x)\", 'class Person:\\n  name = \"John\"\\n  age = 36\\n  country = \"Norway\"\\n\\nx = getattr(Person, \\'age\\')\\n\\nprint(x)', 'x = globals()\\nprint(x)'], '_oh': {}, '_dh': ['/content'], 'In': ['', 'txt = \"hello, and welcome to my world.\"\\n\\nx = txt.capitalize()\\n\\nprint (x)', 'txt = \"Hello, And Welcome To My World!\"\\n\\nx = txt.casefold()\\n\\nprint(x)', 'txt = \"banana\"\\n\\nx = txt.center(20)\\n\\nprint(x)', 'txt = \"I love apples, apple are my favorite fruit\"\\n\\nx = txt.count(\"apple\")\\n\\nprint(x)', 'txt = \"My name is Ståle\"\\n\\nx = txt.encode()\\n\\nprint(x)', 'txt = \"Hello, welcome to my world.\"\\n\\nx = txt.endswith(\".\")\\n\\nprint(x)', 'txt = \"H\\\\te\\\\tl\\\\tl\\\\to\"\\n\\nx =  txt.expandtabs(2)\\n\\nprint(x)', 'txt = \"Hello, welcome to my world.\"\\n\\nx = txt.find(\"welcome\")\\n\\nprint(x)', 'txt = \"For only {price:.2f} dollars!\"\\nprint(txt.format(price = 49))', 'txt = \"Hello, welcome to my world.\"\\n\\nx = txt.index(\"welcome\")\\n\\nprint(x)', 'txt = \"Company12\"\\n\\nx = txt.isalnum()\\n\\nprint(x)', 'txt = \"CompanyX\"\\n\\nx = txt.isalpha()\\n\\nprint(x)', 'txt = \"Company123\"\\n\\nx = txt.isascii()\\n\\nprint(x)', 'txt = \"1234\"\\n\\nx = txt.isdecimal()\\n\\nprint(x)', 'txt = \"50800\"\\n\\nx = txt.isdigit()\\n\\nprint(x)', 'txt = \"Demo\"\\n\\nx = txt.isidentifier()\\n\\nprint(x)', 'txt = \"hello world!\"\\n\\nx = txt.islower()\\n\\nprint(x)', 'txt = \"565543\"\\n\\nx = txt.isnumeric()\\n\\nprint(x)', 'txt = \"Hello! Are you #1?\"\\n\\nx = txt.isprintable()\\n\\nprint(x)', 'txt = \"   \"\\n\\nx = txt.isspace()\\n\\nprint(x)', 'txt = \"Hello, And Welcome To My World!\"\\n\\nx = txt.istitle()\\n\\nprint(x)', 'txt = \"THIS IS NOW!\"\\n\\nx = txt.isupper()\\n\\nprint(x)', 'myTuple = (\"John\", \"Peter\", \"Vicky\")\\n\\nx = \"#\".join(myTuple)\\n\\nprint(x)', 'txt = \"banana\"\\n\\nx = txt.ljust(20)\\n\\nprint(x, \"is my favorite fruit.\")', 'txt = \"Hello my FRIENDS\"\\n\\nx = txt.lower()\\n\\nprint(x)', 'txt = \"     banana     \"\\n\\nx = txt.lstrip()\\n\\nprint(\"of all fruits\", x, \"is my favorite\")', 'txt = \"Hello Sam!\"\\nmytable = str.maketrans(\"S\", \"P\")\\nprint(txt.translate(mytable))', 'txt = \"I could eat bananas all day\"\\n\\nx = txt.partition(\"bananas\")\\n\\nprint(x)', 'txt = \"I like bananas\"\\n\\nx = txt.replace(\"bananas\", \"apples\")\\n\\nprint(x)', 'txt = \"Mi casa, su casa.\"\\n\\nx = txt.rfind(\"casa\")\\n\\nprint(x)', 'txt = \"Mi casa, su casa.\"\\n\\nx = txt.rindex(\"casa\")\\n\\nprint(x)', 'txt = \"banana\"\\n\\nx = txt.rjust(20)\\n\\nprint(x, \"is my favorite fruit.\")', 'txt = \"I could eat bananas all day, bananas are my favorite fruit\"\\n\\nx = txt.rpartition(\"bananas\")\\n\\nprint(x)', 'txt = \"apple, banana, cherry\"\\n\\nx = txt.rsplit(\", \")\\n\\nprint(x)', 'txt = \"welcome to the jungle\"\\n\\nx = txt.split()\\n\\nprint(x)', 'txt = \"Thank you for the music\\\\nWelcome to the jungle\"\\n\\nx = txt.splitlines()\\n\\nprint(x)', 'txt = \"Hello, welcome to my world.\"\\n\\nx = txt.startswith(\"Hello\")\\n\\nprint(x)', 'txt = \"     banana     \"\\n\\nx = txt.strip()\\n\\nprint(\"of all fruits\", x, \"is my favorite\")', 'txt = \"Hello My Name Is PETER\"\\n\\nx = txt.swapcase()\\n\\nprint(x)', 'txt = \"Welcome to my world\"\\n\\nx = txt.title()\\n\\nprint(x)', '#use a dictionary with ascii codes to replace 83 (S) with 80 (P):\\nmydict = {83:  80}\\ntxt = \"Hello Sam!\"\\nprint(txt.translate(mydict))', 'txt = \"Hello my friends\"\\n\\nx = txt.upper()\\n\\nprint(x)', 'txt = \"50\"\\n\\nx = txt.zfill(10)\\n\\nprint(x)', 'fruits = [\\'apple\\', \\'banana\\', \\'cherry\\']\\nfruits.append(\"orange\")', \"fruits = ['apple', 'banana', 'cherry', 'orange']\\n\\nfruits.clear()\", 'fruits = [\"apple\", \"banana\", \"cherry\"]\\n\\nfruits.clear()\\n\\nprint(fruits)', 'fruits = [\"apple\", \"banana\", \"cherry\"]\\n\\nfruits.append(\"orange\")\\n\\nprint(fruits)', 'fruits = [\"apple\", \"banana\", \"cherry\"]\\n\\nx = fruits.copy()\\n\\nprint(x)', 'fruits = [\"apple\", \"banana\", \"cherry\"]\\n\\nx = fruits.count(\"cherry\")\\n\\nprint(x)', \"fruits = ['apple', 'banana', 'cherry']\\n\\ncars = ['Ford', 'BMW', 'Volvo']\\n\\nfruits.extend(cars)\\n\\nprint(fruits)\", 'fruits = [\\'apple\\', \\'banana\\', \\'cherry\\']\\n\\nx = fruits.index(\"cherry\")\\n\\nprint(x)', 'fruits = [\\'apple\\', \\'banana\\', \\'cherry\\']\\n\\nfruits.insert(1, \"orange\")\\n\\nprint(fruits)', \"fruits = ['apple', 'banana', 'cherry']\\n\\nfruits.pop(1)\\n\\nprint(fruits)\", 'fruits = [\\'apple\\', \\'banana\\', \\'cherry\\']\\n\\nfruits.remove(\"banana\")\\n\\nprint(fruits)', \"fruits = ['apple', 'banana', 'cherry']\\n\\nfruits.reverse()\\n\\nprint(fruits)\", \"cars = ['Ford', 'BMW', 'Volvo']\\n\\ncars.sort()\\n\\nprint(cars)\", 'car = {\\n  \"brand\": \"Ford\",\\n  \"model\": \"Mustang\",\\n  \"year\": 1964\\n}\\n\\ncar.clear()\\n\\nprint(car)', 'car = {\\n  \"brand\": \"Ford\",\\n  \"model\": \"Mustang\",\\n  \"year\": 1964\\n}\\n\\nx = car.copy()\\n\\nprint(x)', \"x = ('key1', 'key2', 'key3')\\ny = 0\\n\\nthisdict = dict.fromkeys(x, y)\\n\\nprint(thisdict)\", 'car = {\\n  \"brand\": \"Ford\",\\n  \"model\": \"Mustang\",\\n  \"year\": 1964\\n}\\n\\nx = car.get(\"model\")\\n\\nprint(x)', 'car = {\\n  \"brand\": \"Ford\",\\n  \"model\": \"Mustang\",\\n  \"year\": 1964\\n}\\n\\nx = car.items()\\n\\nprint(x)', 'car = {\\n  \"brand\": \"Ford\",\\n  \"model\": \"Mustang\",\\n  \"year\": 1964\\n}\\n\\nx = car.keys()\\n\\nprint(x)', 'car = {\\n  \"brand\": \"Ford\",\\n  \"model\": \"Mustang\",\\n  \"year\": 1964\\n}\\n\\ncar.pop(\"model\")\\n\\nprint(car)', 'car = {\\n  \"brand\": \"Ford\",\\n  \"model\": \"Mustang\",\\n  \"year\": 1964\\n}\\n\\ncar.popitem()\\n\\nprint(car)', 'car = {\\n  \"brand\": \"Ford\",\\n  \"model\": \"Mustang\",\\n  \"year\": 1964\\n}\\n\\nx = car.setdefault(\"model\", \"Bronco\")\\n\\nprint(x)', 'car = {\\n  \"brand\": \"Ford\",\\n  \"model\": \"Mustang\",\\n  \"year\": 1964\\n}\\n\\ncar.update({\"color\": \"White\"})\\n\\nprint(car)', 'car = {\\n  \"brand\": \"Ford\",\\n  \"model\": \"Mustang\",\\n  \"year\": 1964\\n}\\n\\nx = car.values()\\n\\nprint(x)', 'thistuple = (1, 3, 7, 8, 7, 5, 4, 6, 8, 5)\\n\\nx = thistuple.count(5)\\n\\nprint(x)', 'thistuple = (1, 3, 7, 8, 7, 5, 4, 6, 8, 5)\\n\\nx = thistuple.index(8)\\n\\nprint(x)', 'fruits = {\"apple\", \"banana\", \"cherry\"}\\n\\nfruits.add(\"orange\")\\n\\nprint(fruits)', 'fruits = {\"apple\", \"banana\", \"cherry\"}\\n\\nfruits.clear()\\n\\nprint(fruits)', 'fruits = {\"apple\", \"banana\", \"cherry\"}\\n\\nx = fruits.copy()\\n\\nprint(x)', 'x = {\"apple\", \"banana\", \"cherry\"}\\ny = {\"google\", \"microsoft\", \"apple\"}\\n\\nz = x.difference(y)\\n\\nprint(z)', 'x = {\"apple\", \"banana\", \"cherry\"}\\ny = {\"google\", \"microsoft\", \"apple\"}\\n\\nx.difference_update(y)\\n\\nprint(x)', 'fruits = {\"apple\", \"banana\", \"cherry\"}\\n\\nfruits.discard(\"banana\")\\n\\nprint(fruits)', 'x = {\"apple\", \"banana\", \"cherry\"}\\ny = {\"google\", \"microsoft\", \"apple\"}\\n\\nz = x.intersection(y)\\n\\nprint(z)', 'x = {\"apple\", \"banana\", \"cherry\"}\\ny = {\"google\", \"microsoft\", \"apple\"}\\n\\nx.intersection_update(y)\\n\\nprint(x)', 'x = {\"apple\", \"banana\", \"cherry\"}\\ny = {\"google\", \"microsoft\", \"facebook\"}\\n\\nz = x.isdisjoint(y)\\n\\nprint(z)', 'x = {\"a\", \"b\", \"c\"}\\ny = {\"f\", \"e\", \"d\", \"c\", \"b\", \"a\"}\\n\\nz = x.issubset(y)\\n\\nprint(z)', 'x = {\"f\", \"e\", \"d\", \"c\", \"b\", \"a\"}\\ny = {\"a\", \"b\", \"c\"}\\n\\nz = x.issuperset(y)\\n\\nprint(z)', 'fruits = {\"apple\", \"banana\", \"cherry\"}\\n\\nfruits.pop()\\n\\nprint(fruits)', 'fruits = {\"apple\", \"banana\", \"cherry\"}\\n\\nfruits.remove(\"banana\")\\n\\nprint(fruits)', 'x = {\"apple\", \"banana\", \"cherry\"}\\ny = {\"google\", \"microsoft\", \"apple\"}\\n\\nz = x.symmetric_difference(y)\\n\\nprint(z)', 'x = {\"apple\", \"banana\", \"cherry\"}\\ny = {\"google\", \"microsoft\", \"apple\"}\\n\\nx.symmetric_difference_update(y)\\n\\nprint(x)', 'x = {\"apple\", \"banana\", \"cherry\"}\\ny = {\"google\", \"microsoft\", \"apple\"}\\n\\nz = x.union(y)\\n\\nprint(z)', 'x = {\"apple\", \"banana\", \"cherry\"}\\ny = {\"google\", \"microsoft\", \"apple\"}\\n\\nx.update(y)\\n\\nprint(x)', 'x = abs(-7.25)\\nprint(x)', 'mylist = [True, True, True]\\nx = all(mylist)\\nprint(x)', 'mylist = [False, True, False]\\nx = any(mylist)\\nprint(x)', 'x = ascii(\"My name is Ståle\")\\nprint(x)', 'x = bin(36)\\nprint(x)', 'x = bin(36)\\nprint(x)', 'x = bytearray(4)\\nprint(x)', 'x = bytes(4)\\nprint(x)', 'def x():\\n  a = 5\\n\\nprint(callable(x))', 'x = chr(97)\\n\\nprint(x)', \"x = compile('print(55)', 'test', 'eval')\\nexec(x)\", 'x = complex(3, 5)\\nprint(x)', 'class Person:\\n  name = \"John\"\\n  age = 36\\n  country = \"Norway\"\\n\\ndelattr(Person, \\'age\\')', 'x = dict(name = \"John\", age = 36, country = \"Norway\")\\n\\nprint(x)', 'class Person:\\n  name = \"John\"\\n  age = 36\\n  country = \"Norway\"\\n\\nprint(dir(Person))', 'x = divmod(5, 2)\\n\\nprint(x)', \"x = ('apple', 'banana', 'cherry')\\ny = enumerate(x)\\n\\nprint(list(y))\", \"x = 'print(55)'\\neval(x)\", 'x = \\'name = \"John\"\\\\nprint(name)\\'\\nexec(x)', 'ages = [5, 12, 17, 18, 24, 32]\\n\\ndef myFunc(x):\\n  if x < 18:\\n    return False\\n  else:\\n    return True\\n\\nadults = filter(myFunc, ages)\\n\\nfor x in adults:\\n  print(x)', 'x = float(3)\\n\\nprint(x)', \"x = format(0.5, '%')\\n\\nprint(x)\", \"mylist = ['apple', 'banana', 'cherry']\\nx = frozenset(mylist)\\nprint(x)\", 'class Person:\\n  name = \"John\"\\n  age = 36\\n  country = \"Norway\"\\n\\nx = getattr(Person, \\'age\\')\\n\\nprint(x)', 'x = globals()\\nprint(x)'], 'Out': {}, 'get_ipython': <bound method InteractiveShell.get_ipython of <google.colab._shell.Shell object at 0x7b1f5d936080>>, 'exit': <IPython.core.autocall.ZMQExitAutocall object at 0x7b1f5d936620>, 'quit': <IPython.core.autocall.ZMQExitAutocall object at 0x7b1f5d936620>, '_': '', '__': '', '___': '', '_i': 'class Person:\\n  name = \"John\"\\n  age = 36\\n  country = \"Norway\"\\n\\nx = getattr(Person, \\'age\\')\\n\\nprint(x)', '_ii': \"mylist = ['apple', 'banana', 'cherry']\\nx = frozenset(mylist)\\nprint(x)\", '_iii': \"x = format(0.5, '%')\\n\\nprint(x)\", '_i1': 'txt = \"hello, and welcome to my world.\"\\n\\nx = txt.capitalize()\\n\\nprint (x)', 'txt': '50', 'x': {...}, '_i2': 'txt = \"Hello, And Welcome To My World!\"\\n\\nx = txt.casefold()\\n\\nprint(x)', '_i3': 'txt = \"banana\"\\n\\nx = txt.center(20)\\n\\nprint(x)', '_i4': 'txt = \"I love apples, apple are my favorite fruit\"\\n\\nx = txt.count(\"apple\")\\n\\nprint(x)', '_i5': 'txt = \"My name is Ståle\"\\n\\nx = txt.encode()\\n\\nprint(x)', '_i6': 'txt = \"Hello, welcome to my world.\"\\n\\nx = txt.endswith(\".\")\\n\\nprint(x)', '_i7': 'txt = \"H\\\\te\\\\tl\\\\tl\\\\to\"\\n\\nx =  txt.expandtabs(2)\\n\\nprint(x)', '_i8': 'txt = \"Hello, welcome to my world.\"\\n\\nx = txt.find(\"welcome\")\\n\\nprint(x)', '_i9': 'txt = \"For only {price:.2f} dollars!\"\\nprint(txt.format(price = 49))', '_i10': 'txt = \"Hello, welcome to my world.\"\\n\\nx = txt.index(\"welcome\")\\n\\nprint(x)', '_i11': 'txt = \"Company12\"\\n\\nx = txt.isalnum()\\n\\nprint(x)', '_i12': 'txt = \"CompanyX\"\\n\\nx = txt.isalpha()\\n\\nprint(x)', '_i13': 'txt = \"Company123\"\\n\\nx = txt.isascii()\\n\\nprint(x)', '_i14': 'txt = \"1234\"\\n\\nx = txt.isdecimal()\\n\\nprint(x)', '_i15': 'txt = \"50800\"\\n\\nx = txt.isdigit()\\n\\nprint(x)', '_i16': 'txt = \"Demo\"\\n\\nx = txt.isidentifier()\\n\\nprint(x)', '_i17': 'txt = \"hello world!\"\\n\\nx = txt.islower()\\n\\nprint(x)', '_i18': 'txt = \"565543\"\\n\\nx = txt.isnumeric()\\n\\nprint(x)', '_i19': 'txt = \"Hello! Are you #1?\"\\n\\nx = txt.isprintable()\\n\\nprint(x)', '_i20': 'txt = \"   \"\\n\\nx = txt.isspace()\\n\\nprint(x)', '_i21': 'txt = \"Hello, And Welcome To My World!\"\\n\\nx = txt.istitle()\\n\\nprint(x)', '_i22': 'txt = \"THIS IS NOW!\"\\n\\nx = txt.isupper()\\n\\nprint(x)', '_i23': 'myTuple = (\"John\", \"Peter\", \"Vicky\")\\n\\nx = \"#\".join(myTuple)\\n\\nprint(x)', 'myTuple': ('John', 'Peter', 'Vicky'), '_i24': 'txt = \"banana\"\\n\\nx = txt.ljust(20)\\n\\nprint(x, \"is my favorite fruit.\")', '_i25': 'txt = \"Hello my FRIENDS\"\\n\\nx = txt.lower()\\n\\nprint(x)', '_i26': 'txt = \"     banana     \"\\n\\nx = txt.lstrip()\\n\\nprint(\"of all fruits\", x, \"is my favorite\")', '_i27': 'txt = \"Hello Sam!\"\\nmytable = str.maketrans(\"S\", \"P\")\\nprint(txt.translate(mytable))', 'mytable': {83: 80}, '_i28': 'txt = \"I could eat bananas all day\"\\n\\nx = txt.partition(\"bananas\")\\n\\nprint(x)', '_i29': 'txt = \"I like bananas\"\\n\\nx = txt.replace(\"bananas\", \"apples\")\\n\\nprint(x)', '_i30': 'txt = \"Mi casa, su casa.\"\\n\\nx = txt.rfind(\"casa\")\\n\\nprint(x)', '_i31': 'txt = \"Mi casa, su casa.\"\\n\\nx = txt.rindex(\"casa\")\\n\\nprint(x)', '_i32': 'txt = \"banana\"\\n\\nx = txt.rjust(20)\\n\\nprint(x, \"is my favorite fruit.\")', '_i33': '\\ntxt = \"I could eat bananas all day, bananas are my favorite fruit\"\\n\\nx = txt.rpartition(\"bananas\")\\n\\nprint(x)', '_i34': 'txt = \"apple, banana, cherry\"\\n\\nx = txt.rsplit(\", \")\\n\\nprint(x)', '_i35': 'txt = \"welcome to the jungle\"\\n\\nx = txt.split()\\n\\nprint(x)', '_i36': 'txt = \"Thank you for the music\\\\nWelcome to the jungle\"\\n\\nx = txt.splitlines()\\n\\nprint(x)', '_i37': 'txt = \"Hello, welcome to my world.\"\\n\\nx = txt.startswith(\"Hello\")\\n\\nprint(x)', '_i38': 'txt = \"     banana     \"\\n\\nx = txt.strip()\\n\\nprint(\"of all fruits\", x, \"is my favorite\")', '_i39': 'txt = \"Hello My Name Is PETER\"\\n\\nx = txt.swapcase()\\n\\nprint(x)', '_i40': 'txt = \"Welcome to my world\"\\n\\nx = txt.title()\\n\\nprint(x)', '_i41': '#use a dictionary with ascii codes to replace 83 (S) with 80 (P):\\nmydict = {83:  80}\\ntxt = \"Hello Sam!\"\\nprint(txt.translate(mydict))', 'mydict': {83: 80}, '_i42': 'txt = \"Hello my friends\"\\n\\nx = txt.upper()\\n\\nprint(x)', '_i43': 'txt = \"50\"\\n\\nx = txt.zfill(10)\\n\\nprint(x)', '_i44': 'fruits = [\\'apple\\', \\'banana\\', \\'cherry\\']\\nfruits.append(\"orange\")', 'fruits': {'apple', 'cherry'}, '_i45': \"fruits = ['apple', 'banana', 'cherry', 'orange']\\n\\nfruits.clear()\", '_i46': 'fruits = [\"apple\", \"banana\", \"cherry\"]\\n\\nfruits.clear()\\n\\nprint(fruits)', '_i47': 'fruits = [\"apple\", \"banana\", \"cherry\"]\\n\\nfruits.append(\"orange\")\\n\\nprint(fruits)', '_i48': 'fruits = [\"apple\", \"banana\", \"cherry\"]\\n\\nx = fruits.copy()\\n\\nprint(x)', '_i49': 'fruits = [\"apple\", \"banana\", \"cherry\"]\\n\\nx = fruits.count(\"cherry\")\\n\\nprint(x)', '_i50': \"fruits = ['apple', 'banana', 'cherry']\\n\\ncars = ['Ford', 'BMW', 'Volvo']\\n\\nfruits.extend(cars)\\n\\nprint(fruits)\", 'cars': ['BMW', 'Ford', 'Volvo'], '_i51': 'fruits = [\\'apple\\', \\'banana\\', \\'cherry\\']\\n\\nx = fruits.index(\"cherry\")\\n\\nprint(x)', '_i52': 'fruits = [\\'apple\\', \\'banana\\', \\'cherry\\']\\n\\nfruits.insert(1, \"orange\")\\n\\nprint(fruits)', '_i53': \"fruits = ['apple', 'banana', 'cherry']\\n\\nfruits.pop(1)\\n\\nprint(fruits)\", '_i54': 'fruits = [\\'apple\\', \\'banana\\', \\'cherry\\']\\n\\nfruits.remove(\"banana\")\\n\\nprint(fruits)', '_i55': \"fruits = ['apple', 'banana', 'cherry']\\n\\nfruits.reverse()\\n\\nprint(fruits)\", '_i56': \"cars = ['Ford', 'BMW', 'Volvo']\\n\\ncars.sort()\\n\\nprint(cars)\", '_i57': 'car = {\\n  \"brand\": \"Ford\",\\n  \"model\": \"Mustang\",\\n  \"year\": 1964\\n}\\n\\ncar.clear()\\n\\nprint(car)', 'car': {'brand': 'Ford', 'model': 'Mustang', 'year': 1964}, '_i58': 'car = {\\n  \"brand\": \"Ford\",\\n  \"model\": \"Mustang\",\\n  \"year\": 1964\\n}\\n\\nx = car.copy()\\n\\nprint(x)', '_i59': \"x = ('key1', 'key2', 'key3')\\ny = 0\\n\\nthisdict = dict.fromkeys(x, y)\\n\\nprint(thisdict)\", 'y': <enumerate object at 0x7b1f593f5140>, 'thisdict': {'key1': 0, 'key2': 0, 'key3': 0}, '_i60': 'car = {\\n  \"brand\": \"Ford\",\\n  \"model\": \"Mustang\",\\n  \"year\": 1964\\n}\\n\\nx = car.get(\"model\")\\n\\nprint(x)', '_i61': 'car = {\\n  \"brand\": \"Ford\",\\n  \"model\": \"Mustang\",\\n  \"year\": 1964\\n}\\n\\nx = car.items()\\n\\nprint(x)', '_i62': 'car = {\\n  \"brand\": \"Ford\",\\n  \"model\": \"Mustang\",\\n  \"year\": 1964\\n}\\n\\nx = car.keys()\\n\\nprint(x)', '_i63': 'car = {\\n  \"brand\": \"Ford\",\\n  \"model\": \"Mustang\",\\n  \"year\": 1964\\n}\\n\\ncar.pop(\"model\")\\n\\nprint(car)', '_i64': 'car = {\\n  \"brand\": \"Ford\",\\n  \"model\": \"Mustang\",\\n  \"year\": 1964\\n}\\n\\ncar.popitem()\\n\\nprint(car)', '_i65': 'car = {\\n  \"brand\": \"Ford\",\\n  \"model\": \"Mustang\",\\n  \"year\": 1964\\n}\\n\\nx = car.setdefault(\"model\", \"Bronco\")\\n\\nprint(x)', '_i66': 'car = {\\n  \"brand\": \"Ford\",\\n  \"model\": \"Mustang\",\\n  \"year\": 1964\\n}\\n\\ncar.update({\"color\": \"White\"})\\n\\nprint(car)', '_i67': 'car = {\\n  \"brand\": \"Ford\",\\n  \"model\": \"Mustang\",\\n  \"year\": 1964\\n}\\n\\nx = car.values()\\n\\nprint(x)', '_i68': 'thistuple = (1, 3, 7, 8, 7, 5, 4, 6, 8, 5)\\n\\nx = thistuple.count(5)\\n\\nprint(x)', 'thistuple': (1, 3, 7, 8, 7, 5, 4, 6, 8, 5), '_i69': 'thistuple = (1, 3, 7, 8, 7, 5, 4, 6, 8, 5)\\n\\nx = thistuple.index(8)\\n\\nprint(x)', '_i70': 'fruits = {\"apple\", \"banana\", \"cherry\"}\\n\\nfruits.add(\"orange\")\\n\\nprint(fruits)', '_i71': 'fruits = {\"apple\", \"banana\", \"cherry\"}\\n\\nfruits.clear()\\n\\nprint(fruits)', '_i72': 'fruits = {\"apple\", \"banana\", \"cherry\"}\\n\\nx = fruits.copy()\\n\\nprint(x)', '_i73': 'x = {\"apple\", \"banana\", \"cherry\"}\\ny = {\"google\", \"microsoft\", \"apple\"}\\n\\nz = x.difference(y)\\n\\nprint(z)', 'z': {'banana', 'apple', 'microsoft', 'cherry', 'google'}, '_i74': 'x = {\"apple\", \"banana\", \"cherry\"}\\ny = {\"google\", \"microsoft\", \"apple\"}\\n\\nx.difference_update(y)\\n\\nprint(x)', '_i75': 'fruits = {\"apple\", \"banana\", \"cherry\"}\\n\\nfruits.discard(\"banana\")\\n\\nprint(fruits)', '_i76': 'x = {\"apple\", \"banana\", \"cherry\"}\\ny = {\"google\", \"microsoft\", \"apple\"}\\n\\nz = x.intersection(y)\\n\\nprint(z)', '_i77': 'x = {\"apple\", \"banana\", \"cherry\"}\\ny = {\"google\", \"microsoft\", \"apple\"}\\n\\nx.intersection_update(y)\\n\\nprint(x)', '_i78': 'x = {\"apple\", \"banana\", \"cherry\"}\\ny = {\"google\", \"microsoft\", \"facebook\"}\\n\\nz = x.isdisjoint(y)\\n\\nprint(z)', '_i79': 'x = {\"a\", \"b\", \"c\"}\\ny = {\"f\", \"e\", \"d\", \"c\", \"b\", \"a\"}\\n\\nz = x.issubset(y)\\n\\nprint(z)', '_i80': 'x = {\"f\", \"e\", \"d\", \"c\", \"b\", \"a\"}\\ny = {\"a\", \"b\", \"c\"}\\n\\nz = x.issuperset(y)\\n\\nprint(z)', '_i81': 'fruits = {\"apple\", \"banana\", \"cherry\"}\\n\\nfruits.pop()\\n\\nprint(fruits)', '_i82': 'fruits = {\"apple\", \"banana\", \"cherry\"}\\n\\nfruits.remove(\"banana\")\\n\\nprint(fruits)', '_i83': 'x = {\"apple\", \"banana\", \"cherry\"}\\ny = {\"google\", \"microsoft\", \"apple\"}\\n\\nz = x.symmetric_difference(y)\\n\\nprint(z)', '_i84': 'x = {\"apple\", \"banana\", \"cherry\"}\\ny = {\"google\", \"microsoft\", \"apple\"}\\n\\nx.symmetric_difference_update(y)\\n\\nprint(x)', '_i85': 'x = {\"apple\", \"banana\", \"cherry\"}\\ny = {\"google\", \"microsoft\", \"apple\"}\\n\\nz = x.union(y)\\n\\nprint(z)', '_i86': 'x = {\"apple\", \"banana\", \"cherry\"}\\ny = {\"google\", \"microsoft\", \"apple\"}\\n\\nx.update(y)\\n\\nprint(x)', '_i87': 'x = abs(-7.25)\\nprint(x)', '_i88': 'mylist = [True, True, True]\\nx = all(mylist)\\nprint(x)', 'mylist': ['apple', 'banana', 'cherry'], '_i89': 'mylist = [False, True, False]\\nx = any(mylist)\\nprint(x)', '_i90': 'x = ascii(\"My name is Ståle\")\\nprint(x)', '_i91': 'x = bin(36)\\nprint(x)', '_i92': 'x = bin(36)\\nprint(x)', '_i93': 'x = bytearray(4)\\nprint(x)', '_i94': 'x = bytes(4)\\nprint(x)', '_i95': 'def x():\\n  a = 5\\n\\nprint(callable(x))', '_i96': 'x = chr(97)\\n\\nprint(x)', '_i97': \"x = compile('print(55)', 'test', 'eval')\\nexec(x)\", '_i98': 'x = complex(3, 5)\\nprint(x)', '_i99': 'class Person:\\n  name = \"John\"\\n  age = 36\\n  country = \"Norway\"\\n\\ndelattr(Person, \\'age\\')', 'Person': <class '__main__.Person'>, '_i100': 'x = dict(name = \"John\", age = 36, country = \"Norway\")\\n\\nprint(x)', '_i101': 'class Person:\\n  name = \"John\"\\n  age = 36\\n  country = \"Norway\"\\n\\nprint(dir(Person))', '_i102': 'x = divmod(5, 2)\\n\\nprint(x)', '_i103': \"x = ('apple', 'banana', 'cherry')\\ny = enumerate(x)\\n\\nprint(list(y))\", '_i104': \"x = 'print(55)'\\neval(x)\", '_i105': 'x = \\'name = \"John\"\\\\nprint(name)\\'\\nexec(x)', 'name': 'John', '_i106': 'ages = [5, 12, 17, 18, 24, 32]\\n\\ndef myFunc(x):\\n  if x < 18:\\n    return False\\n  else:\\n    return True\\n\\nadults = filter(myFunc, ages)\\n\\nfor x in adults:\\n  print(x)', 'ages': [5, 12, 17, 18, 24, 32], 'myFunc': <function myFunc at 0x7b1f58441510>, 'adults': <filter object at 0x7b1f5841ee90>, '_i107': 'x = float(3)\\n\\nprint(x)', '_i108': \"x = format(0.5, '%')\\n\\nprint(x)\", '_i109': \"mylist = ['apple', 'banana', 'cherry']\\nx = frozenset(mylist)\\nprint(x)\", '_i110': 'class Person:\\n  name = \"John\"\\n  age = 36\\n  country = \"Norway\"\\n\\nx = getattr(Person, \\'age\\')\\n\\nprint(x)', '_i111': 'x = globals()\\nprint(x)'}\n"
          ]
        }
      ]
    },
    {
      "cell_type": "code",
      "source": [
        "class Person:\n",
        "  name = \"John\"\n",
        "  age = 36\n",
        "  country = \"Norway\"\n",
        "\n",
        "x = hasattr(Person, 'age')\n",
        "\n",
        "print(x)\n"
      ],
      "metadata": {
        "colab": {
          "base_uri": "https://localhost:8080/"
        },
        "id": "gfVuQmd4kAJu",
        "outputId": "99df000f-3875-4325-8dd7-9660a1988035"
      },
      "execution_count": 112,
      "outputs": [
        {
          "output_type": "stream",
          "name": "stdout",
          "text": [
            "True\n"
          ]
        }
      ]
    },
    {
      "cell_type": "code",
      "source": [
        "x = hex(255)\n",
        "print(x)\n"
      ],
      "metadata": {
        "colab": {
          "base_uri": "https://localhost:8080/"
        },
        "id": "Q2_q3gNOkH-O",
        "outputId": "6dfb478f-0c04-4a17-f618-1373ea4b7f95"
      },
      "execution_count": 113,
      "outputs": [
        {
          "output_type": "stream",
          "name": "stdout",
          "text": [
            "0xff\n"
          ]
        }
      ]
    },
    {
      "cell_type": "code",
      "source": [
        "x = ('apple', 'banana', 'cherry')\n",
        "y = id(x)\n",
        "print(y)"
      ],
      "metadata": {
        "colab": {
          "base_uri": "https://localhost:8080/"
        },
        "id": "QVCzGm6bkPzJ",
        "outputId": "dfe9c777-c8bf-4e0e-9323-f69e732c8c87"
      },
      "execution_count": 114,
      "outputs": [
        {
          "output_type": "stream",
          "name": "stdout",
          "text": [
            "135374555263808\n"
          ]
        }
      ]
    },
    {
      "cell_type": "code",
      "source": [
        "print('Enter your name:')\n",
        "x = input()\n",
        "print('Hello, ' + x)"
      ],
      "metadata": {
        "colab": {
          "base_uri": "https://localhost:8080/"
        },
        "id": "9Rf60Db7kUnO",
        "outputId": "b4f51793-2360-4a08-d78e-f918e6cade48"
      },
      "execution_count": 115,
      "outputs": [
        {
          "output_type": "stream",
          "name": "stdout",
          "text": [
            "Enter your name:\n",
            "JYO\n",
            "Hello, JYO\n"
          ]
        }
      ]
    },
    {
      "cell_type": "code",
      "source": [
        "x = int(3.5)\n",
        "\n",
        "print(x)\n"
      ],
      "metadata": {
        "colab": {
          "base_uri": "https://localhost:8080/"
        },
        "id": "dseN3Fp_kfbv",
        "outputId": "08f4783f-47dc-4e7b-9c36-e2fbdbfa6717"
      },
      "execution_count": 116,
      "outputs": [
        {
          "output_type": "stream",
          "name": "stdout",
          "text": [
            "3\n"
          ]
        }
      ]
    },
    {
      "cell_type": "code",
      "source": [
        "x = isinstance(5, int)\n",
        "\n",
        "print(x)\n",
        "\n"
      ],
      "metadata": {
        "colab": {
          "base_uri": "https://localhost:8080/"
        },
        "id": "CNR4gsNmknDZ",
        "outputId": "5ff353ef-e2ef-414a-9015-806d98ea41c0"
      },
      "execution_count": 117,
      "outputs": [
        {
          "output_type": "stream",
          "name": "stdout",
          "text": [
            "True\n"
          ]
        }
      ]
    },
    {
      "cell_type": "code",
      "source": [
        "class myAge:\n",
        "  age = 36\n",
        "\n",
        "class myObj(myAge):\n",
        "  name = \"John\"\n",
        "  age = myAge\n",
        "\n",
        "x = issubclass(myObj, myAge)\n",
        "\n",
        "print(x)\n"
      ],
      "metadata": {
        "colab": {
          "base_uri": "https://localhost:8080/"
        },
        "id": "xjNk8OMrktoA",
        "outputId": "216d0b6f-5a92-4b1d-9416-e2284b872a69"
      },
      "execution_count": 118,
      "outputs": [
        {
          "output_type": "stream",
          "name": "stdout",
          "text": [
            "True\n"
          ]
        }
      ]
    },
    {
      "cell_type": "code",
      "source": [
        "x = iter([\"apple\", \"banana\", \"cherry\"])\n",
        "print(next(x))\n",
        "print(next(x))\n",
        "print(next(x))"
      ],
      "metadata": {
        "colab": {
          "base_uri": "https://localhost:8080/"
        },
        "id": "cnYn8wSnkz_6",
        "outputId": "18b0fc20-e0b0-4039-8b9c-95df3f913be8"
      },
      "execution_count": 119,
      "outputs": [
        {
          "output_type": "stream",
          "name": "stdout",
          "text": [
            "apple\n",
            "banana\n",
            "cherry\n"
          ]
        }
      ]
    },
    {
      "cell_type": "code",
      "source": [
        "mylist = [\"apple\", \"orange\", \"cherry\"]\n",
        "\n",
        "x = len(mylist)\n",
        "\n",
        "print(x)\n"
      ],
      "metadata": {
        "colab": {
          "base_uri": "https://localhost:8080/"
        },
        "id": "6bMvBiFnk5yg",
        "outputId": "c89e50eb-efde-4ebf-9ba9-3b3a59160e0a"
      },
      "execution_count": 120,
      "outputs": [
        {
          "output_type": "stream",
          "name": "stdout",
          "text": [
            "3\n"
          ]
        }
      ]
    },
    {
      "cell_type": "code",
      "source": [
        "x = list(('apple', 'banana', 'cherry'))\n",
        "\n",
        "print(x)\n"
      ],
      "metadata": {
        "colab": {
          "base_uri": "https://localhost:8080/"
        },
        "id": "54L2I8zrk-Le",
        "outputId": "f4bd614e-c333-493c-ba41-06cb3f96915c"
      },
      "execution_count": 121,
      "outputs": [
        {
          "output_type": "stream",
          "name": "stdout",
          "text": [
            "['apple', 'banana', 'cherry']\n"
          ]
        }
      ]
    },
    {
      "cell_type": "code",
      "source": [
        "x = locals()\n",
        "print(x)"
      ],
      "metadata": {
        "colab": {
          "base_uri": "https://localhost:8080/"
        },
        "id": "9VEkxZX4lCT8",
        "outputId": "cfa0d9c0-0ee9-40c4-92b0-5480daef72b5"
      },
      "execution_count": 122,
      "outputs": [
        {
          "output_type": "stream",
          "name": "stdout",
          "text": [
            "{'__name__': '__main__', '__doc__': 'Automatically created module for IPython interactive environment', '__package__': None, '__loader__': None, '__spec__': None, '__builtin__': <module 'builtins' (built-in)>, '__builtins__': <module 'builtins' (built-in)>, '_ih': ['', 'txt = \"hello, and welcome to my world.\"\\n\\nx = txt.capitalize()\\n\\nprint (x)', 'txt = \"Hello, And Welcome To My World!\"\\n\\nx = txt.casefold()\\n\\nprint(x)', 'txt = \"banana\"\\n\\nx = txt.center(20)\\n\\nprint(x)', 'txt = \"I love apples, apple are my favorite fruit\"\\n\\nx = txt.count(\"apple\")\\n\\nprint(x)', 'txt = \"My name is Ståle\"\\n\\nx = txt.encode()\\n\\nprint(x)', 'txt = \"Hello, welcome to my world.\"\\n\\nx = txt.endswith(\".\")\\n\\nprint(x)', 'txt = \"H\\\\te\\\\tl\\\\tl\\\\to\"\\n\\nx =  txt.expandtabs(2)\\n\\nprint(x)', 'txt = \"Hello, welcome to my world.\"\\n\\nx = txt.find(\"welcome\")\\n\\nprint(x)', 'txt = \"For only {price:.2f} dollars!\"\\nprint(txt.format(price = 49))', 'txt = \"Hello, welcome to my world.\"\\n\\nx = txt.index(\"welcome\")\\n\\nprint(x)', 'txt = \"Company12\"\\n\\nx = txt.isalnum()\\n\\nprint(x)', 'txt = \"CompanyX\"\\n\\nx = txt.isalpha()\\n\\nprint(x)', 'txt = \"Company123\"\\n\\nx = txt.isascii()\\n\\nprint(x)', 'txt = \"1234\"\\n\\nx = txt.isdecimal()\\n\\nprint(x)', 'txt = \"50800\"\\n\\nx = txt.isdigit()\\n\\nprint(x)', 'txt = \"Demo\"\\n\\nx = txt.isidentifier()\\n\\nprint(x)', 'txt = \"hello world!\"\\n\\nx = txt.islower()\\n\\nprint(x)', 'txt = \"565543\"\\n\\nx = txt.isnumeric()\\n\\nprint(x)', 'txt = \"Hello! Are you #1?\"\\n\\nx = txt.isprintable()\\n\\nprint(x)', 'txt = \"   \"\\n\\nx = txt.isspace()\\n\\nprint(x)', 'txt = \"Hello, And Welcome To My World!\"\\n\\nx = txt.istitle()\\n\\nprint(x)', 'txt = \"THIS IS NOW!\"\\n\\nx = txt.isupper()\\n\\nprint(x)', 'myTuple = (\"John\", \"Peter\", \"Vicky\")\\n\\nx = \"#\".join(myTuple)\\n\\nprint(x)', 'txt = \"banana\"\\n\\nx = txt.ljust(20)\\n\\nprint(x, \"is my favorite fruit.\")', 'txt = \"Hello my FRIENDS\"\\n\\nx = txt.lower()\\n\\nprint(x)', 'txt = \"     banana     \"\\n\\nx = txt.lstrip()\\n\\nprint(\"of all fruits\", x, \"is my favorite\")', 'txt = \"Hello Sam!\"\\nmytable = str.maketrans(\"S\", \"P\")\\nprint(txt.translate(mytable))', 'txt = \"I could eat bananas all day\"\\n\\nx = txt.partition(\"bananas\")\\n\\nprint(x)', 'txt = \"I like bananas\"\\n\\nx = txt.replace(\"bananas\", \"apples\")\\n\\nprint(x)', 'txt = \"Mi casa, su casa.\"\\n\\nx = txt.rfind(\"casa\")\\n\\nprint(x)', 'txt = \"Mi casa, su casa.\"\\n\\nx = txt.rindex(\"casa\")\\n\\nprint(x)', 'txt = \"banana\"\\n\\nx = txt.rjust(20)\\n\\nprint(x, \"is my favorite fruit.\")', 'txt = \"I could eat bananas all day, bananas are my favorite fruit\"\\n\\nx = txt.rpartition(\"bananas\")\\n\\nprint(x)', 'txt = \"apple, banana, cherry\"\\n\\nx = txt.rsplit(\", \")\\n\\nprint(x)', 'txt = \"welcome to the jungle\"\\n\\nx = txt.split()\\n\\nprint(x)', 'txt = \"Thank you for the music\\\\nWelcome to the jungle\"\\n\\nx = txt.splitlines()\\n\\nprint(x)', 'txt = \"Hello, welcome to my world.\"\\n\\nx = txt.startswith(\"Hello\")\\n\\nprint(x)', 'txt = \"     banana     \"\\n\\nx = txt.strip()\\n\\nprint(\"of all fruits\", x, \"is my favorite\")', 'txt = \"Hello My Name Is PETER\"\\n\\nx = txt.swapcase()\\n\\nprint(x)', 'txt = \"Welcome to my world\"\\n\\nx = txt.title()\\n\\nprint(x)', '#use a dictionary with ascii codes to replace 83 (S) with 80 (P):\\nmydict = {83:  80}\\ntxt = \"Hello Sam!\"\\nprint(txt.translate(mydict))', 'txt = \"Hello my friends\"\\n\\nx = txt.upper()\\n\\nprint(x)', 'txt = \"50\"\\n\\nx = txt.zfill(10)\\n\\nprint(x)', 'fruits = [\\'apple\\', \\'banana\\', \\'cherry\\']\\nfruits.append(\"orange\")', \"fruits = ['apple', 'banana', 'cherry', 'orange']\\n\\nfruits.clear()\", 'fruits = [\"apple\", \"banana\", \"cherry\"]\\n\\nfruits.clear()\\n\\nprint(fruits)', 'fruits = [\"apple\", \"banana\", \"cherry\"]\\n\\nfruits.append(\"orange\")\\n\\nprint(fruits)', 'fruits = [\"apple\", \"banana\", \"cherry\"]\\n\\nx = fruits.copy()\\n\\nprint(x)', 'fruits = [\"apple\", \"banana\", \"cherry\"]\\n\\nx = fruits.count(\"cherry\")\\n\\nprint(x)', \"fruits = ['apple', 'banana', 'cherry']\\n\\ncars = ['Ford', 'BMW', 'Volvo']\\n\\nfruits.extend(cars)\\n\\nprint(fruits)\", 'fruits = [\\'apple\\', \\'banana\\', \\'cherry\\']\\n\\nx = fruits.index(\"cherry\")\\n\\nprint(x)', 'fruits = [\\'apple\\', \\'banana\\', \\'cherry\\']\\n\\nfruits.insert(1, \"orange\")\\n\\nprint(fruits)', \"fruits = ['apple', 'banana', 'cherry']\\n\\nfruits.pop(1)\\n\\nprint(fruits)\", 'fruits = [\\'apple\\', \\'banana\\', \\'cherry\\']\\n\\nfruits.remove(\"banana\")\\n\\nprint(fruits)', \"fruits = ['apple', 'banana', 'cherry']\\n\\nfruits.reverse()\\n\\nprint(fruits)\", \"cars = ['Ford', 'BMW', 'Volvo']\\n\\ncars.sort()\\n\\nprint(cars)\", 'car = {\\n  \"brand\": \"Ford\",\\n  \"model\": \"Mustang\",\\n  \"year\": 1964\\n}\\n\\ncar.clear()\\n\\nprint(car)', 'car = {\\n  \"brand\": \"Ford\",\\n  \"model\": \"Mustang\",\\n  \"year\": 1964\\n}\\n\\nx = car.copy()\\n\\nprint(x)', \"x = ('key1', 'key2', 'key3')\\ny = 0\\n\\nthisdict = dict.fromkeys(x, y)\\n\\nprint(thisdict)\", 'car = {\\n  \"brand\": \"Ford\",\\n  \"model\": \"Mustang\",\\n  \"year\": 1964\\n}\\n\\nx = car.get(\"model\")\\n\\nprint(x)', 'car = {\\n  \"brand\": \"Ford\",\\n  \"model\": \"Mustang\",\\n  \"year\": 1964\\n}\\n\\nx = car.items()\\n\\nprint(x)', 'car = {\\n  \"brand\": \"Ford\",\\n  \"model\": \"Mustang\",\\n  \"year\": 1964\\n}\\n\\nx = car.keys()\\n\\nprint(x)', 'car = {\\n  \"brand\": \"Ford\",\\n  \"model\": \"Mustang\",\\n  \"year\": 1964\\n}\\n\\ncar.pop(\"model\")\\n\\nprint(car)', 'car = {\\n  \"brand\": \"Ford\",\\n  \"model\": \"Mustang\",\\n  \"year\": 1964\\n}\\n\\ncar.popitem()\\n\\nprint(car)', 'car = {\\n  \"brand\": \"Ford\",\\n  \"model\": \"Mustang\",\\n  \"year\": 1964\\n}\\n\\nx = car.setdefault(\"model\", \"Bronco\")\\n\\nprint(x)', 'car = {\\n  \"brand\": \"Ford\",\\n  \"model\": \"Mustang\",\\n  \"year\": 1964\\n}\\n\\ncar.update({\"color\": \"White\"})\\n\\nprint(car)', 'car = {\\n  \"brand\": \"Ford\",\\n  \"model\": \"Mustang\",\\n  \"year\": 1964\\n}\\n\\nx = car.values()\\n\\nprint(x)', 'thistuple = (1, 3, 7, 8, 7, 5, 4, 6, 8, 5)\\n\\nx = thistuple.count(5)\\n\\nprint(x)', 'thistuple = (1, 3, 7, 8, 7, 5, 4, 6, 8, 5)\\n\\nx = thistuple.index(8)\\n\\nprint(x)', 'fruits = {\"apple\", \"banana\", \"cherry\"}\\n\\nfruits.add(\"orange\")\\n\\nprint(fruits)', 'fruits = {\"apple\", \"banana\", \"cherry\"}\\n\\nfruits.clear()\\n\\nprint(fruits)', 'fruits = {\"apple\", \"banana\", \"cherry\"}\\n\\nx = fruits.copy()\\n\\nprint(x)', 'x = {\"apple\", \"banana\", \"cherry\"}\\ny = {\"google\", \"microsoft\", \"apple\"}\\n\\nz = x.difference(y)\\n\\nprint(z)', 'x = {\"apple\", \"banana\", \"cherry\"}\\ny = {\"google\", \"microsoft\", \"apple\"}\\n\\nx.difference_update(y)\\n\\nprint(x)', 'fruits = {\"apple\", \"banana\", \"cherry\"}\\n\\nfruits.discard(\"banana\")\\n\\nprint(fruits)', 'x = {\"apple\", \"banana\", \"cherry\"}\\ny = {\"google\", \"microsoft\", \"apple\"}\\n\\nz = x.intersection(y)\\n\\nprint(z)', 'x = {\"apple\", \"banana\", \"cherry\"}\\ny = {\"google\", \"microsoft\", \"apple\"}\\n\\nx.intersection_update(y)\\n\\nprint(x)', 'x = {\"apple\", \"banana\", \"cherry\"}\\ny = {\"google\", \"microsoft\", \"facebook\"}\\n\\nz = x.isdisjoint(y)\\n\\nprint(z)', 'x = {\"a\", \"b\", \"c\"}\\ny = {\"f\", \"e\", \"d\", \"c\", \"b\", \"a\"}\\n\\nz = x.issubset(y)\\n\\nprint(z)', 'x = {\"f\", \"e\", \"d\", \"c\", \"b\", \"a\"}\\ny = {\"a\", \"b\", \"c\"}\\n\\nz = x.issuperset(y)\\n\\nprint(z)', 'fruits = {\"apple\", \"banana\", \"cherry\"}\\n\\nfruits.pop()\\n\\nprint(fruits)', 'fruits = {\"apple\", \"banana\", \"cherry\"}\\n\\nfruits.remove(\"banana\")\\n\\nprint(fruits)', 'x = {\"apple\", \"banana\", \"cherry\"}\\ny = {\"google\", \"microsoft\", \"apple\"}\\n\\nz = x.symmetric_difference(y)\\n\\nprint(z)', 'x = {\"apple\", \"banana\", \"cherry\"}\\ny = {\"google\", \"microsoft\", \"apple\"}\\n\\nx.symmetric_difference_update(y)\\n\\nprint(x)', 'x = {\"apple\", \"banana\", \"cherry\"}\\ny = {\"google\", \"microsoft\", \"apple\"}\\n\\nz = x.union(y)\\n\\nprint(z)', 'x = {\"apple\", \"banana\", \"cherry\"}\\ny = {\"google\", \"microsoft\", \"apple\"}\\n\\nx.update(y)\\n\\nprint(x)', 'x = abs(-7.25)\\nprint(x)', 'mylist = [True, True, True]\\nx = all(mylist)\\nprint(x)', 'mylist = [False, True, False]\\nx = any(mylist)\\nprint(x)', 'x = ascii(\"My name is Ståle\")\\nprint(x)', 'x = bin(36)\\nprint(x)', 'x = bin(36)\\nprint(x)', 'x = bytearray(4)\\nprint(x)', 'x = bytes(4)\\nprint(x)', 'def x():\\n  a = 5\\n\\nprint(callable(x))', 'x = chr(97)\\n\\nprint(x)', \"x = compile('print(55)', 'test', 'eval')\\nexec(x)\", 'x = complex(3, 5)\\nprint(x)', 'class Person:\\n  name = \"John\"\\n  age = 36\\n  country = \"Norway\"\\n\\ndelattr(Person, \\'age\\')', 'x = dict(name = \"John\", age = 36, country = \"Norway\")\\n\\nprint(x)', 'class Person:\\n  name = \"John\"\\n  age = 36\\n  country = \"Norway\"\\n\\nprint(dir(Person))', 'x = divmod(5, 2)\\n\\nprint(x)', \"x = ('apple', 'banana', 'cherry')\\ny = enumerate(x)\\n\\nprint(list(y))\", \"x = 'print(55)'\\neval(x)\", 'x = \\'name = \"John\"\\\\nprint(name)\\'\\nexec(x)', 'ages = [5, 12, 17, 18, 24, 32]\\n\\ndef myFunc(x):\\n  if x < 18:\\n    return False\\n  else:\\n    return True\\n\\nadults = filter(myFunc, ages)\\n\\nfor x in adults:\\n  print(x)', 'x = float(3)\\n\\nprint(x)', \"x = format(0.5, '%')\\n\\nprint(x)\", \"mylist = ['apple', 'banana', 'cherry']\\nx = frozenset(mylist)\\nprint(x)\", 'class Person:\\n  name = \"John\"\\n  age = 36\\n  country = \"Norway\"\\n\\nx = getattr(Person, \\'age\\')\\n\\nprint(x)', 'x = globals()\\nprint(x)', 'class Person:\\n  name = \"John\"\\n  age = 36\\n  country = \"Norway\"\\n\\nx = hasattr(Person, \\'age\\')\\n\\nprint(x)', 'x = hex(255)\\nprint(x)', \"x = ('apple', 'banana', 'cherry')\\ny = id(x)\\nprint(y)\", \"print('Enter your name:')\\nx = input()\\nprint('Hello, ' + x)\", 'x = int(3.5)\\n\\nprint(x)', 'x = isinstance(5, int)\\n\\nprint(x)', 'class myAge:\\n  age = 36\\n\\nclass myObj(myAge):\\n  name = \"John\"\\n  age = myAge\\n\\nx = issubclass(myObj, myAge)\\n\\nprint(x)', 'x = iter([\"apple\", \"banana\", \"cherry\"])\\nprint(next(x))\\nprint(next(x))\\nprint(next(x))', 'mylist = [\"apple\", \"orange\", \"cherry\"]\\n\\nx = len(mylist)\\n\\nprint(x)', \"x = list(('apple', 'banana', 'cherry'))\\n\\nprint(x)\", 'x = locals()\\nprint(x)'], '_oh': {}, '_dh': ['/content'], 'In': ['', 'txt = \"hello, and welcome to my world.\"\\n\\nx = txt.capitalize()\\n\\nprint (x)', 'txt = \"Hello, And Welcome To My World!\"\\n\\nx = txt.casefold()\\n\\nprint(x)', 'txt = \"banana\"\\n\\nx = txt.center(20)\\n\\nprint(x)', 'txt = \"I love apples, apple are my favorite fruit\"\\n\\nx = txt.count(\"apple\")\\n\\nprint(x)', 'txt = \"My name is Ståle\"\\n\\nx = txt.encode()\\n\\nprint(x)', 'txt = \"Hello, welcome to my world.\"\\n\\nx = txt.endswith(\".\")\\n\\nprint(x)', 'txt = \"H\\\\te\\\\tl\\\\tl\\\\to\"\\n\\nx =  txt.expandtabs(2)\\n\\nprint(x)', 'txt = \"Hello, welcome to my world.\"\\n\\nx = txt.find(\"welcome\")\\n\\nprint(x)', 'txt = \"For only {price:.2f} dollars!\"\\nprint(txt.format(price = 49))', 'txt = \"Hello, welcome to my world.\"\\n\\nx = txt.index(\"welcome\")\\n\\nprint(x)', 'txt = \"Company12\"\\n\\nx = txt.isalnum()\\n\\nprint(x)', 'txt = \"CompanyX\"\\n\\nx = txt.isalpha()\\n\\nprint(x)', 'txt = \"Company123\"\\n\\nx = txt.isascii()\\n\\nprint(x)', 'txt = \"1234\"\\n\\nx = txt.isdecimal()\\n\\nprint(x)', 'txt = \"50800\"\\n\\nx = txt.isdigit()\\n\\nprint(x)', 'txt = \"Demo\"\\n\\nx = txt.isidentifier()\\n\\nprint(x)', 'txt = \"hello world!\"\\n\\nx = txt.islower()\\n\\nprint(x)', 'txt = \"565543\"\\n\\nx = txt.isnumeric()\\n\\nprint(x)', 'txt = \"Hello! Are you #1?\"\\n\\nx = txt.isprintable()\\n\\nprint(x)', 'txt = \"   \"\\n\\nx = txt.isspace()\\n\\nprint(x)', 'txt = \"Hello, And Welcome To My World!\"\\n\\nx = txt.istitle()\\n\\nprint(x)', 'txt = \"THIS IS NOW!\"\\n\\nx = txt.isupper()\\n\\nprint(x)', 'myTuple = (\"John\", \"Peter\", \"Vicky\")\\n\\nx = \"#\".join(myTuple)\\n\\nprint(x)', 'txt = \"banana\"\\n\\nx = txt.ljust(20)\\n\\nprint(x, \"is my favorite fruit.\")', 'txt = \"Hello my FRIENDS\"\\n\\nx = txt.lower()\\n\\nprint(x)', 'txt = \"     banana     \"\\n\\nx = txt.lstrip()\\n\\nprint(\"of all fruits\", x, \"is my favorite\")', 'txt = \"Hello Sam!\"\\nmytable = str.maketrans(\"S\", \"P\")\\nprint(txt.translate(mytable))', 'txt = \"I could eat bananas all day\"\\n\\nx = txt.partition(\"bananas\")\\n\\nprint(x)', 'txt = \"I like bananas\"\\n\\nx = txt.replace(\"bananas\", \"apples\")\\n\\nprint(x)', 'txt = \"Mi casa, su casa.\"\\n\\nx = txt.rfind(\"casa\")\\n\\nprint(x)', 'txt = \"Mi casa, su casa.\"\\n\\nx = txt.rindex(\"casa\")\\n\\nprint(x)', 'txt = \"banana\"\\n\\nx = txt.rjust(20)\\n\\nprint(x, \"is my favorite fruit.\")', 'txt = \"I could eat bananas all day, bananas are my favorite fruit\"\\n\\nx = txt.rpartition(\"bananas\")\\n\\nprint(x)', 'txt = \"apple, banana, cherry\"\\n\\nx = txt.rsplit(\", \")\\n\\nprint(x)', 'txt = \"welcome to the jungle\"\\n\\nx = txt.split()\\n\\nprint(x)', 'txt = \"Thank you for the music\\\\nWelcome to the jungle\"\\n\\nx = txt.splitlines()\\n\\nprint(x)', 'txt = \"Hello, welcome to my world.\"\\n\\nx = txt.startswith(\"Hello\")\\n\\nprint(x)', 'txt = \"     banana     \"\\n\\nx = txt.strip()\\n\\nprint(\"of all fruits\", x, \"is my favorite\")', 'txt = \"Hello My Name Is PETER\"\\n\\nx = txt.swapcase()\\n\\nprint(x)', 'txt = \"Welcome to my world\"\\n\\nx = txt.title()\\n\\nprint(x)', '#use a dictionary with ascii codes to replace 83 (S) with 80 (P):\\nmydict = {83:  80}\\ntxt = \"Hello Sam!\"\\nprint(txt.translate(mydict))', 'txt = \"Hello my friends\"\\n\\nx = txt.upper()\\n\\nprint(x)', 'txt = \"50\"\\n\\nx = txt.zfill(10)\\n\\nprint(x)', 'fruits = [\\'apple\\', \\'banana\\', \\'cherry\\']\\nfruits.append(\"orange\")', \"fruits = ['apple', 'banana', 'cherry', 'orange']\\n\\nfruits.clear()\", 'fruits = [\"apple\", \"banana\", \"cherry\"]\\n\\nfruits.clear()\\n\\nprint(fruits)', 'fruits = [\"apple\", \"banana\", \"cherry\"]\\n\\nfruits.append(\"orange\")\\n\\nprint(fruits)', 'fruits = [\"apple\", \"banana\", \"cherry\"]\\n\\nx = fruits.copy()\\n\\nprint(x)', 'fruits = [\"apple\", \"banana\", \"cherry\"]\\n\\nx = fruits.count(\"cherry\")\\n\\nprint(x)', \"fruits = ['apple', 'banana', 'cherry']\\n\\ncars = ['Ford', 'BMW', 'Volvo']\\n\\nfruits.extend(cars)\\n\\nprint(fruits)\", 'fruits = [\\'apple\\', \\'banana\\', \\'cherry\\']\\n\\nx = fruits.index(\"cherry\")\\n\\nprint(x)', 'fruits = [\\'apple\\', \\'banana\\', \\'cherry\\']\\n\\nfruits.insert(1, \"orange\")\\n\\nprint(fruits)', \"fruits = ['apple', 'banana', 'cherry']\\n\\nfruits.pop(1)\\n\\nprint(fruits)\", 'fruits = [\\'apple\\', \\'banana\\', \\'cherry\\']\\n\\nfruits.remove(\"banana\")\\n\\nprint(fruits)', \"fruits = ['apple', 'banana', 'cherry']\\n\\nfruits.reverse()\\n\\nprint(fruits)\", \"cars = ['Ford', 'BMW', 'Volvo']\\n\\ncars.sort()\\n\\nprint(cars)\", 'car = {\\n  \"brand\": \"Ford\",\\n  \"model\": \"Mustang\",\\n  \"year\": 1964\\n}\\n\\ncar.clear()\\n\\nprint(car)', 'car = {\\n  \"brand\": \"Ford\",\\n  \"model\": \"Mustang\",\\n  \"year\": 1964\\n}\\n\\nx = car.copy()\\n\\nprint(x)', \"x = ('key1', 'key2', 'key3')\\ny = 0\\n\\nthisdict = dict.fromkeys(x, y)\\n\\nprint(thisdict)\", 'car = {\\n  \"brand\": \"Ford\",\\n  \"model\": \"Mustang\",\\n  \"year\": 1964\\n}\\n\\nx = car.get(\"model\")\\n\\nprint(x)', 'car = {\\n  \"brand\": \"Ford\",\\n  \"model\": \"Mustang\",\\n  \"year\": 1964\\n}\\n\\nx = car.items()\\n\\nprint(x)', 'car = {\\n  \"brand\": \"Ford\",\\n  \"model\": \"Mustang\",\\n  \"year\": 1964\\n}\\n\\nx = car.keys()\\n\\nprint(x)', 'car = {\\n  \"brand\": \"Ford\",\\n  \"model\": \"Mustang\",\\n  \"year\": 1964\\n}\\n\\ncar.pop(\"model\")\\n\\nprint(car)', 'car = {\\n  \"brand\": \"Ford\",\\n  \"model\": \"Mustang\",\\n  \"year\": 1964\\n}\\n\\ncar.popitem()\\n\\nprint(car)', 'car = {\\n  \"brand\": \"Ford\",\\n  \"model\": \"Mustang\",\\n  \"year\": 1964\\n}\\n\\nx = car.setdefault(\"model\", \"Bronco\")\\n\\nprint(x)', 'car = {\\n  \"brand\": \"Ford\",\\n  \"model\": \"Mustang\",\\n  \"year\": 1964\\n}\\n\\ncar.update({\"color\": \"White\"})\\n\\nprint(car)', 'car = {\\n  \"brand\": \"Ford\",\\n  \"model\": \"Mustang\",\\n  \"year\": 1964\\n}\\n\\nx = car.values()\\n\\nprint(x)', 'thistuple = (1, 3, 7, 8, 7, 5, 4, 6, 8, 5)\\n\\nx = thistuple.count(5)\\n\\nprint(x)', 'thistuple = (1, 3, 7, 8, 7, 5, 4, 6, 8, 5)\\n\\nx = thistuple.index(8)\\n\\nprint(x)', 'fruits = {\"apple\", \"banana\", \"cherry\"}\\n\\nfruits.add(\"orange\")\\n\\nprint(fruits)', 'fruits = {\"apple\", \"banana\", \"cherry\"}\\n\\nfruits.clear()\\n\\nprint(fruits)', 'fruits = {\"apple\", \"banana\", \"cherry\"}\\n\\nx = fruits.copy()\\n\\nprint(x)', 'x = {\"apple\", \"banana\", \"cherry\"}\\ny = {\"google\", \"microsoft\", \"apple\"}\\n\\nz = x.difference(y)\\n\\nprint(z)', 'x = {\"apple\", \"banana\", \"cherry\"}\\ny = {\"google\", \"microsoft\", \"apple\"}\\n\\nx.difference_update(y)\\n\\nprint(x)', 'fruits = {\"apple\", \"banana\", \"cherry\"}\\n\\nfruits.discard(\"banana\")\\n\\nprint(fruits)', 'x = {\"apple\", \"banana\", \"cherry\"}\\ny = {\"google\", \"microsoft\", \"apple\"}\\n\\nz = x.intersection(y)\\n\\nprint(z)', 'x = {\"apple\", \"banana\", \"cherry\"}\\ny = {\"google\", \"microsoft\", \"apple\"}\\n\\nx.intersection_update(y)\\n\\nprint(x)', 'x = {\"apple\", \"banana\", \"cherry\"}\\ny = {\"google\", \"microsoft\", \"facebook\"}\\n\\nz = x.isdisjoint(y)\\n\\nprint(z)', 'x = {\"a\", \"b\", \"c\"}\\ny = {\"f\", \"e\", \"d\", \"c\", \"b\", \"a\"}\\n\\nz = x.issubset(y)\\n\\nprint(z)', 'x = {\"f\", \"e\", \"d\", \"c\", \"b\", \"a\"}\\ny = {\"a\", \"b\", \"c\"}\\n\\nz = x.issuperset(y)\\n\\nprint(z)', 'fruits = {\"apple\", \"banana\", \"cherry\"}\\n\\nfruits.pop()\\n\\nprint(fruits)', 'fruits = {\"apple\", \"banana\", \"cherry\"}\\n\\nfruits.remove(\"banana\")\\n\\nprint(fruits)', 'x = {\"apple\", \"banana\", \"cherry\"}\\ny = {\"google\", \"microsoft\", \"apple\"}\\n\\nz = x.symmetric_difference(y)\\n\\nprint(z)', 'x = {\"apple\", \"banana\", \"cherry\"}\\ny = {\"google\", \"microsoft\", \"apple\"}\\n\\nx.symmetric_difference_update(y)\\n\\nprint(x)', 'x = {\"apple\", \"banana\", \"cherry\"}\\ny = {\"google\", \"microsoft\", \"apple\"}\\n\\nz = x.union(y)\\n\\nprint(z)', 'x = {\"apple\", \"banana\", \"cherry\"}\\ny = {\"google\", \"microsoft\", \"apple\"}\\n\\nx.update(y)\\n\\nprint(x)', 'x = abs(-7.25)\\nprint(x)', 'mylist = [True, True, True]\\nx = all(mylist)\\nprint(x)', 'mylist = [False, True, False]\\nx = any(mylist)\\nprint(x)', 'x = ascii(\"My name is Ståle\")\\nprint(x)', 'x = bin(36)\\nprint(x)', 'x = bin(36)\\nprint(x)', 'x = bytearray(4)\\nprint(x)', 'x = bytes(4)\\nprint(x)', 'def x():\\n  a = 5\\n\\nprint(callable(x))', 'x = chr(97)\\n\\nprint(x)', \"x = compile('print(55)', 'test', 'eval')\\nexec(x)\", 'x = complex(3, 5)\\nprint(x)', 'class Person:\\n  name = \"John\"\\n  age = 36\\n  country = \"Norway\"\\n\\ndelattr(Person, \\'age\\')', 'x = dict(name = \"John\", age = 36, country = \"Norway\")\\n\\nprint(x)', 'class Person:\\n  name = \"John\"\\n  age = 36\\n  country = \"Norway\"\\n\\nprint(dir(Person))', 'x = divmod(5, 2)\\n\\nprint(x)', \"x = ('apple', 'banana', 'cherry')\\ny = enumerate(x)\\n\\nprint(list(y))\", \"x = 'print(55)'\\neval(x)\", 'x = \\'name = \"John\"\\\\nprint(name)\\'\\nexec(x)', 'ages = [5, 12, 17, 18, 24, 32]\\n\\ndef myFunc(x):\\n  if x < 18:\\n    return False\\n  else:\\n    return True\\n\\nadults = filter(myFunc, ages)\\n\\nfor x in adults:\\n  print(x)', 'x = float(3)\\n\\nprint(x)', \"x = format(0.5, '%')\\n\\nprint(x)\", \"mylist = ['apple', 'banana', 'cherry']\\nx = frozenset(mylist)\\nprint(x)\", 'class Person:\\n  name = \"John\"\\n  age = 36\\n  country = \"Norway\"\\n\\nx = getattr(Person, \\'age\\')\\n\\nprint(x)', 'x = globals()\\nprint(x)', 'class Person:\\n  name = \"John\"\\n  age = 36\\n  country = \"Norway\"\\n\\nx = hasattr(Person, \\'age\\')\\n\\nprint(x)', 'x = hex(255)\\nprint(x)', \"x = ('apple', 'banana', 'cherry')\\ny = id(x)\\nprint(y)\", \"print('Enter your name:')\\nx = input()\\nprint('Hello, ' + x)\", 'x = int(3.5)\\n\\nprint(x)', 'x = isinstance(5, int)\\n\\nprint(x)', 'class myAge:\\n  age = 36\\n\\nclass myObj(myAge):\\n  name = \"John\"\\n  age = myAge\\n\\nx = issubclass(myObj, myAge)\\n\\nprint(x)', 'x = iter([\"apple\", \"banana\", \"cherry\"])\\nprint(next(x))\\nprint(next(x))\\nprint(next(x))', 'mylist = [\"apple\", \"orange\", \"cherry\"]\\n\\nx = len(mylist)\\n\\nprint(x)', \"x = list(('apple', 'banana', 'cherry'))\\n\\nprint(x)\", 'x = locals()\\nprint(x)'], 'Out': {}, 'get_ipython': <bound method InteractiveShell.get_ipython of <google.colab._shell.Shell object at 0x7b1f5d936080>>, 'exit': <IPython.core.autocall.ZMQExitAutocall object at 0x7b1f5d936620>, 'quit': <IPython.core.autocall.ZMQExitAutocall object at 0x7b1f5d936620>, '_': '', '__': '', '___': '', '_i': \"x = list(('apple', 'banana', 'cherry'))\\n\\nprint(x)\", '_ii': 'mylist = [\"apple\", \"orange\", \"cherry\"]\\n\\nx = len(mylist)\\n\\nprint(x)', '_iii': 'x = iter([\"apple\", \"banana\", \"cherry\"])\\nprint(next(x))\\nprint(next(x))\\nprint(next(x))', '_i1': 'txt = \"hello, and welcome to my world.\"\\n\\nx = txt.capitalize()\\n\\nprint (x)', 'txt': '50', 'x': {...}, '_i2': 'txt = \"Hello, And Welcome To My World!\"\\n\\nx = txt.casefold()\\n\\nprint(x)', '_i3': 'txt = \"banana\"\\n\\nx = txt.center(20)\\n\\nprint(x)', '_i4': 'txt = \"I love apples, apple are my favorite fruit\"\\n\\nx = txt.count(\"apple\")\\n\\nprint(x)', '_i5': 'txt = \"My name is Ståle\"\\n\\nx = txt.encode()\\n\\nprint(x)', '_i6': 'txt = \"Hello, welcome to my world.\"\\n\\nx = txt.endswith(\".\")\\n\\nprint(x)', '_i7': 'txt = \"H\\\\te\\\\tl\\\\tl\\\\to\"\\n\\nx =  txt.expandtabs(2)\\n\\nprint(x)', '_i8': 'txt = \"Hello, welcome to my world.\"\\n\\nx = txt.find(\"welcome\")\\n\\nprint(x)', '_i9': 'txt = \"For only {price:.2f} dollars!\"\\nprint(txt.format(price = 49))', '_i10': 'txt = \"Hello, welcome to my world.\"\\n\\nx = txt.index(\"welcome\")\\n\\nprint(x)', '_i11': 'txt = \"Company12\"\\n\\nx = txt.isalnum()\\n\\nprint(x)', '_i12': 'txt = \"CompanyX\"\\n\\nx = txt.isalpha()\\n\\nprint(x)', '_i13': 'txt = \"Company123\"\\n\\nx = txt.isascii()\\n\\nprint(x)', '_i14': 'txt = \"1234\"\\n\\nx = txt.isdecimal()\\n\\nprint(x)', '_i15': 'txt = \"50800\"\\n\\nx = txt.isdigit()\\n\\nprint(x)', '_i16': 'txt = \"Demo\"\\n\\nx = txt.isidentifier()\\n\\nprint(x)', '_i17': 'txt = \"hello world!\"\\n\\nx = txt.islower()\\n\\nprint(x)', '_i18': 'txt = \"565543\"\\n\\nx = txt.isnumeric()\\n\\nprint(x)', '_i19': 'txt = \"Hello! Are you #1?\"\\n\\nx = txt.isprintable()\\n\\nprint(x)', '_i20': 'txt = \"   \"\\n\\nx = txt.isspace()\\n\\nprint(x)', '_i21': 'txt = \"Hello, And Welcome To My World!\"\\n\\nx = txt.istitle()\\n\\nprint(x)', '_i22': 'txt = \"THIS IS NOW!\"\\n\\nx = txt.isupper()\\n\\nprint(x)', '_i23': 'myTuple = (\"John\", \"Peter\", \"Vicky\")\\n\\nx = \"#\".join(myTuple)\\n\\nprint(x)', 'myTuple': ('John', 'Peter', 'Vicky'), '_i24': 'txt = \"banana\"\\n\\nx = txt.ljust(20)\\n\\nprint(x, \"is my favorite fruit.\")', '_i25': 'txt = \"Hello my FRIENDS\"\\n\\nx = txt.lower()\\n\\nprint(x)', '_i26': 'txt = \"     banana     \"\\n\\nx = txt.lstrip()\\n\\nprint(\"of all fruits\", x, \"is my favorite\")', '_i27': 'txt = \"Hello Sam!\"\\nmytable = str.maketrans(\"S\", \"P\")\\nprint(txt.translate(mytable))', 'mytable': {83: 80}, '_i28': 'txt = \"I could eat bananas all day\"\\n\\nx = txt.partition(\"bananas\")\\n\\nprint(x)', '_i29': 'txt = \"I like bananas\"\\n\\nx = txt.replace(\"bananas\", \"apples\")\\n\\nprint(x)', '_i30': 'txt = \"Mi casa, su casa.\"\\n\\nx = txt.rfind(\"casa\")\\n\\nprint(x)', '_i31': 'txt = \"Mi casa, su casa.\"\\n\\nx = txt.rindex(\"casa\")\\n\\nprint(x)', '_i32': 'txt = \"banana\"\\n\\nx = txt.rjust(20)\\n\\nprint(x, \"is my favorite fruit.\")', '_i33': '\\ntxt = \"I could eat bananas all day, bananas are my favorite fruit\"\\n\\nx = txt.rpartition(\"bananas\")\\n\\nprint(x)', '_i34': 'txt = \"apple, banana, cherry\"\\n\\nx = txt.rsplit(\", \")\\n\\nprint(x)', '_i35': 'txt = \"welcome to the jungle\"\\n\\nx = txt.split()\\n\\nprint(x)', '_i36': 'txt = \"Thank you for the music\\\\nWelcome to the jungle\"\\n\\nx = txt.splitlines()\\n\\nprint(x)', '_i37': 'txt = \"Hello, welcome to my world.\"\\n\\nx = txt.startswith(\"Hello\")\\n\\nprint(x)', '_i38': 'txt = \"     banana     \"\\n\\nx = txt.strip()\\n\\nprint(\"of all fruits\", x, \"is my favorite\")', '_i39': 'txt = \"Hello My Name Is PETER\"\\n\\nx = txt.swapcase()\\n\\nprint(x)', '_i40': 'txt = \"Welcome to my world\"\\n\\nx = txt.title()\\n\\nprint(x)', '_i41': '#use a dictionary with ascii codes to replace 83 (S) with 80 (P):\\nmydict = {83:  80}\\ntxt = \"Hello Sam!\"\\nprint(txt.translate(mydict))', 'mydict': {83: 80}, '_i42': 'txt = \"Hello my friends\"\\n\\nx = txt.upper()\\n\\nprint(x)', '_i43': 'txt = \"50\"\\n\\nx = txt.zfill(10)\\n\\nprint(x)', '_i44': 'fruits = [\\'apple\\', \\'banana\\', \\'cherry\\']\\nfruits.append(\"orange\")', 'fruits': {'apple', 'cherry'}, '_i45': \"fruits = ['apple', 'banana', 'cherry', 'orange']\\n\\nfruits.clear()\", '_i46': 'fruits = [\"apple\", \"banana\", \"cherry\"]\\n\\nfruits.clear()\\n\\nprint(fruits)', '_i47': 'fruits = [\"apple\", \"banana\", \"cherry\"]\\n\\nfruits.append(\"orange\")\\n\\nprint(fruits)', '_i48': 'fruits = [\"apple\", \"banana\", \"cherry\"]\\n\\nx = fruits.copy()\\n\\nprint(x)', '_i49': 'fruits = [\"apple\", \"banana\", \"cherry\"]\\n\\nx = fruits.count(\"cherry\")\\n\\nprint(x)', '_i50': \"fruits = ['apple', 'banana', 'cherry']\\n\\ncars = ['Ford', 'BMW', 'Volvo']\\n\\nfruits.extend(cars)\\n\\nprint(fruits)\", 'cars': ['BMW', 'Ford', 'Volvo'], '_i51': 'fruits = [\\'apple\\', \\'banana\\', \\'cherry\\']\\n\\nx = fruits.index(\"cherry\")\\n\\nprint(x)', '_i52': 'fruits = [\\'apple\\', \\'banana\\', \\'cherry\\']\\n\\nfruits.insert(1, \"orange\")\\n\\nprint(fruits)', '_i53': \"fruits = ['apple', 'banana', 'cherry']\\n\\nfruits.pop(1)\\n\\nprint(fruits)\", '_i54': 'fruits = [\\'apple\\', \\'banana\\', \\'cherry\\']\\n\\nfruits.remove(\"banana\")\\n\\nprint(fruits)', '_i55': \"fruits = ['apple', 'banana', 'cherry']\\n\\nfruits.reverse()\\n\\nprint(fruits)\", '_i56': \"cars = ['Ford', 'BMW', 'Volvo']\\n\\ncars.sort()\\n\\nprint(cars)\", '_i57': 'car = {\\n  \"brand\": \"Ford\",\\n  \"model\": \"Mustang\",\\n  \"year\": 1964\\n}\\n\\ncar.clear()\\n\\nprint(car)', 'car': {'brand': 'Ford', 'model': 'Mustang', 'year': 1964}, '_i58': 'car = {\\n  \"brand\": \"Ford\",\\n  \"model\": \"Mustang\",\\n  \"year\": 1964\\n}\\n\\nx = car.copy()\\n\\nprint(x)', '_i59': \"x = ('key1', 'key2', 'key3')\\ny = 0\\n\\nthisdict = dict.fromkeys(x, y)\\n\\nprint(thisdict)\", 'y': 135374555263808, 'thisdict': {'key1': 0, 'key2': 0, 'key3': 0}, '_i60': 'car = {\\n  \"brand\": \"Ford\",\\n  \"model\": \"Mustang\",\\n  \"year\": 1964\\n}\\n\\nx = car.get(\"model\")\\n\\nprint(x)', '_i61': 'car = {\\n  \"brand\": \"Ford\",\\n  \"model\": \"Mustang\",\\n  \"year\": 1964\\n}\\n\\nx = car.items()\\n\\nprint(x)', '_i62': 'car = {\\n  \"brand\": \"Ford\",\\n  \"model\": \"Mustang\",\\n  \"year\": 1964\\n}\\n\\nx = car.keys()\\n\\nprint(x)', '_i63': 'car = {\\n  \"brand\": \"Ford\",\\n  \"model\": \"Mustang\",\\n  \"year\": 1964\\n}\\n\\ncar.pop(\"model\")\\n\\nprint(car)', '_i64': 'car = {\\n  \"brand\": \"Ford\",\\n  \"model\": \"Mustang\",\\n  \"year\": 1964\\n}\\n\\ncar.popitem()\\n\\nprint(car)', '_i65': 'car = {\\n  \"brand\": \"Ford\",\\n  \"model\": \"Mustang\",\\n  \"year\": 1964\\n}\\n\\nx = car.setdefault(\"model\", \"Bronco\")\\n\\nprint(x)', '_i66': 'car = {\\n  \"brand\": \"Ford\",\\n  \"model\": \"Mustang\",\\n  \"year\": 1964\\n}\\n\\ncar.update({\"color\": \"White\"})\\n\\nprint(car)', '_i67': 'car = {\\n  \"brand\": \"Ford\",\\n  \"model\": \"Mustang\",\\n  \"year\": 1964\\n}\\n\\nx = car.values()\\n\\nprint(x)', '_i68': 'thistuple = (1, 3, 7, 8, 7, 5, 4, 6, 8, 5)\\n\\nx = thistuple.count(5)\\n\\nprint(x)', 'thistuple': (1, 3, 7, 8, 7, 5, 4, 6, 8, 5), '_i69': 'thistuple = (1, 3, 7, 8, 7, 5, 4, 6, 8, 5)\\n\\nx = thistuple.index(8)\\n\\nprint(x)', '_i70': 'fruits = {\"apple\", \"banana\", \"cherry\"}\\n\\nfruits.add(\"orange\")\\n\\nprint(fruits)', '_i71': 'fruits = {\"apple\", \"banana\", \"cherry\"}\\n\\nfruits.clear()\\n\\nprint(fruits)', '_i72': 'fruits = {\"apple\", \"banana\", \"cherry\"}\\n\\nx = fruits.copy()\\n\\nprint(x)', '_i73': 'x = {\"apple\", \"banana\", \"cherry\"}\\ny = {\"google\", \"microsoft\", \"apple\"}\\n\\nz = x.difference(y)\\n\\nprint(z)', 'z': {'banana', 'apple', 'microsoft', 'cherry', 'google'}, '_i74': 'x = {\"apple\", \"banana\", \"cherry\"}\\ny = {\"google\", \"microsoft\", \"apple\"}\\n\\nx.difference_update(y)\\n\\nprint(x)', '_i75': 'fruits = {\"apple\", \"banana\", \"cherry\"}\\n\\nfruits.discard(\"banana\")\\n\\nprint(fruits)', '_i76': 'x = {\"apple\", \"banana\", \"cherry\"}\\ny = {\"google\", \"microsoft\", \"apple\"}\\n\\nz = x.intersection(y)\\n\\nprint(z)', '_i77': 'x = {\"apple\", \"banana\", \"cherry\"}\\ny = {\"google\", \"microsoft\", \"apple\"}\\n\\nx.intersection_update(y)\\n\\nprint(x)', '_i78': 'x = {\"apple\", \"banana\", \"cherry\"}\\ny = {\"google\", \"microsoft\", \"facebook\"}\\n\\nz = x.isdisjoint(y)\\n\\nprint(z)', '_i79': 'x = {\"a\", \"b\", \"c\"}\\ny = {\"f\", \"e\", \"d\", \"c\", \"b\", \"a\"}\\n\\nz = x.issubset(y)\\n\\nprint(z)', '_i80': 'x = {\"f\", \"e\", \"d\", \"c\", \"b\", \"a\"}\\ny = {\"a\", \"b\", \"c\"}\\n\\nz = x.issuperset(y)\\n\\nprint(z)', '_i81': 'fruits = {\"apple\", \"banana\", \"cherry\"}\\n\\nfruits.pop()\\n\\nprint(fruits)', '_i82': 'fruits = {\"apple\", \"banana\", \"cherry\"}\\n\\nfruits.remove(\"banana\")\\n\\nprint(fruits)', '_i83': 'x = {\"apple\", \"banana\", \"cherry\"}\\ny = {\"google\", \"microsoft\", \"apple\"}\\n\\nz = x.symmetric_difference(y)\\n\\nprint(z)', '_i84': 'x = {\"apple\", \"banana\", \"cherry\"}\\ny = {\"google\", \"microsoft\", \"apple\"}\\n\\nx.symmetric_difference_update(y)\\n\\nprint(x)', '_i85': 'x = {\"apple\", \"banana\", \"cherry\"}\\ny = {\"google\", \"microsoft\", \"apple\"}\\n\\nz = x.union(y)\\n\\nprint(z)', '_i86': 'x = {\"apple\", \"banana\", \"cherry\"}\\ny = {\"google\", \"microsoft\", \"apple\"}\\n\\nx.update(y)\\n\\nprint(x)', '_i87': 'x = abs(-7.25)\\nprint(x)', '_i88': 'mylist = [True, True, True]\\nx = all(mylist)\\nprint(x)', 'mylist': ['apple', 'orange', 'cherry'], '_i89': 'mylist = [False, True, False]\\nx = any(mylist)\\nprint(x)', '_i90': 'x = ascii(\"My name is Ståle\")\\nprint(x)', '_i91': 'x = bin(36)\\nprint(x)', '_i92': 'x = bin(36)\\nprint(x)', '_i93': 'x = bytearray(4)\\nprint(x)', '_i94': 'x = bytes(4)\\nprint(x)', '_i95': 'def x():\\n  a = 5\\n\\nprint(callable(x))', '_i96': 'x = chr(97)\\n\\nprint(x)', '_i97': \"x = compile('print(55)', 'test', 'eval')\\nexec(x)\", '_i98': 'x = complex(3, 5)\\nprint(x)', '_i99': 'class Person:\\n  name = \"John\"\\n  age = 36\\n  country = \"Norway\"\\n\\ndelattr(Person, \\'age\\')', 'Person': <class '__main__.Person'>, '_i100': 'x = dict(name = \"John\", age = 36, country = \"Norway\")\\n\\nprint(x)', '_i101': 'class Person:\\n  name = \"John\"\\n  age = 36\\n  country = \"Norway\"\\n\\nprint(dir(Person))', '_i102': 'x = divmod(5, 2)\\n\\nprint(x)', '_i103': \"x = ('apple', 'banana', 'cherry')\\ny = enumerate(x)\\n\\nprint(list(y))\", '_i104': \"x = 'print(55)'\\neval(x)\", '_i105': 'x = \\'name = \"John\"\\\\nprint(name)\\'\\nexec(x)', 'name': 'John', '_i106': 'ages = [5, 12, 17, 18, 24, 32]\\n\\ndef myFunc(x):\\n  if x < 18:\\n    return False\\n  else:\\n    return True\\n\\nadults = filter(myFunc, ages)\\n\\nfor x in adults:\\n  print(x)', 'ages': [5, 12, 17, 18, 24, 32], 'myFunc': <function myFunc at 0x7b1f58441510>, 'adults': <filter object at 0x7b1f5841ee90>, '_i107': 'x = float(3)\\n\\nprint(x)', '_i108': \"x = format(0.5, '%')\\n\\nprint(x)\", '_i109': \"mylist = ['apple', 'banana', 'cherry']\\nx = frozenset(mylist)\\nprint(x)\", '_i110': 'class Person:\\n  name = \"John\"\\n  age = 36\\n  country = \"Norway\"\\n\\nx = getattr(Person, \\'age\\')\\n\\nprint(x)', '_i111': 'x = globals()\\nprint(x)', '_i112': 'class Person:\\n  name = \"John\"\\n  age = 36\\n  country = \"Norway\"\\n\\nx = hasattr(Person, \\'age\\')\\n\\nprint(x)', '_i113': 'x = hex(255)\\nprint(x)', '_i114': \"x = ('apple', 'banana', 'cherry')\\ny = id(x)\\nprint(y)\", '_i115': \"print('Enter your name:')\\nx = input()\\nprint('Hello, ' + x)\", '_i116': 'x = int(3.5)\\n\\nprint(x)', '_i117': 'x = isinstance(5, int)\\n\\nprint(x)', '_i118': 'class myAge:\\n  age = 36\\n\\nclass myObj(myAge):\\n  name = \"John\"\\n  age = myAge\\n\\nx = issubclass(myObj, myAge)\\n\\nprint(x)', 'myAge': <class '__main__.myAge'>, 'myObj': <class '__main__.myObj'>, '_i119': 'x = iter([\"apple\", \"banana\", \"cherry\"])\\nprint(next(x))\\nprint(next(x))\\nprint(next(x))', '_i120': 'mylist = [\"apple\", \"orange\", \"cherry\"]\\n\\nx = len(mylist)\\n\\nprint(x)', '_i121': \"x = list(('apple', 'banana', 'cherry'))\\n\\nprint(x)\", '_i122': 'x = locals()\\nprint(x)'}\n"
          ]
        }
      ]
    },
    {
      "cell_type": "code",
      "source": [
        "def myfunc(a):\n",
        "  return len(a)\n",
        "\n",
        "x = map(myfunc, ('apple', 'banana', 'cherry'))\n",
        "\n",
        "print(x)\n",
        "\n",
        "#convert the map into a list, for readability:\n",
        "print(list(x))\n"
      ],
      "metadata": {
        "colab": {
          "base_uri": "https://localhost:8080/"
        },
        "id": "xHF5ouQKlIJw",
        "outputId": "c84f2a34-096b-4f55-9eb5-576160295fce"
      },
      "execution_count": 123,
      "outputs": [
        {
          "output_type": "stream",
          "name": "stdout",
          "text": [
            "<map object at 0x7b1f5841f190>\n",
            "[5, 6, 6]\n"
          ]
        }
      ]
    },
    {
      "cell_type": "code",
      "source": [
        "x = max(5, 10)\n",
        "\n",
        "print(x)\n",
        "\n"
      ],
      "metadata": {
        "colab": {
          "base_uri": "https://localhost:8080/"
        },
        "id": "L5ZPip8FlN48",
        "outputId": "57a41fc0-d707-4811-90f5-c0335c109887"
      },
      "execution_count": 124,
      "outputs": [
        {
          "output_type": "stream",
          "name": "stdout",
          "text": [
            "10\n"
          ]
        }
      ]
    },
    {
      "cell_type": "code",
      "source": [
        "x = memoryview(b\"Hello\")\n",
        "\n",
        "print(x)\n",
        "\n",
        "#return the Unicode of the first character\n",
        "print(x[0])\n",
        "\n",
        "#return the Unicode of the second character\n",
        "print(x[1])\n"
      ],
      "metadata": {
        "colab": {
          "base_uri": "https://localhost:8080/"
        },
        "id": "Y4yUL7talSe9",
        "outputId": "cf4e5c8e-73f1-455a-ec46-4ae7230ad96a"
      },
      "execution_count": 125,
      "outputs": [
        {
          "output_type": "stream",
          "name": "stdout",
          "text": [
            "<memory at 0x7b1f58480880>\n",
            "72\n",
            "101\n"
          ]
        }
      ]
    },
    {
      "cell_type": "code",
      "source": [
        "x = min(5, 10)\n",
        "\n",
        "print(x)\n"
      ],
      "metadata": {
        "colab": {
          "base_uri": "https://localhost:8080/"
        },
        "id": "sIWcyQwTlXBe",
        "outputId": "f4cb3a64-b16e-45f0-d11a-876f41bc8ae8"
      },
      "execution_count": 126,
      "outputs": [
        {
          "output_type": "stream",
          "name": "stdout",
          "text": [
            "5\n"
          ]
        }
      ]
    },
    {
      "cell_type": "code",
      "source": [
        "mylist = iter([\"apple\", \"banana\", \"cherry\"])\n",
        "x = next(mylist)\n",
        "print(x)\n",
        "x = next(mylist)\n",
        "print(x)\n",
        "x = next(mylist)\n",
        "print(x)"
      ],
      "metadata": {
        "colab": {
          "base_uri": "https://localhost:8080/"
        },
        "id": "g6N5kaB6lbiu",
        "outputId": "3721d708-7632-4643-9b46-956d10528923"
      },
      "execution_count": 127,
      "outputs": [
        {
          "output_type": "stream",
          "name": "stdout",
          "text": [
            "apple\n",
            "banana\n",
            "cherry\n"
          ]
        }
      ]
    },
    {
      "cell_type": "code",
      "source": [
        "x = object()\n",
        "\n",
        "print(dir(x))\n"
      ],
      "metadata": {
        "colab": {
          "base_uri": "https://localhost:8080/"
        },
        "id": "IkzK6UAdlhio",
        "outputId": "0998ba6b-88a7-4a9b-fa9a-9e8afe2d6945"
      },
      "execution_count": 128,
      "outputs": [
        {
          "output_type": "stream",
          "name": "stdout",
          "text": [
            "['__class__', '__delattr__', '__dir__', '__doc__', '__eq__', '__format__', '__ge__', '__getattribute__', '__gt__', '__hash__', '__init__', '__init_subclass__', '__le__', '__lt__', '__ne__', '__new__', '__reduce__', '__reduce_ex__', '__repr__', '__setattr__', '__sizeof__', '__str__', '__subclasshook__']\n"
          ]
        }
      ]
    },
    {
      "cell_type": "code",
      "source": [
        "x = oct(12)\n",
        "\n",
        "print(x)\n"
      ],
      "metadata": {
        "colab": {
          "base_uri": "https://localhost:8080/"
        },
        "id": "TEL8gQ1LlrkI",
        "outputId": "71599273-f497-42c5-fe3b-ec56874265ea"
      },
      "execution_count": 129,
      "outputs": [
        {
          "output_type": "stream",
          "name": "stdout",
          "text": [
            "0o14\n"
          ]
        }
      ]
    },
    {
      "cell_type": "code",
      "source": [
        "x = ord(\"h\")\n",
        "\n",
        "print(x)\n"
      ],
      "metadata": {
        "colab": {
          "base_uri": "https://localhost:8080/"
        },
        "id": "R8p_nt0Al0oz",
        "outputId": "01b2375a-c1c0-45f5-c4d0-91261f5626c3"
      },
      "execution_count": 131,
      "outputs": [
        {
          "output_type": "stream",
          "name": "stdout",
          "text": [
            "104\n"
          ]
        }
      ]
    },
    {
      "cell_type": "code",
      "source": [
        "x = pow(4, 3)\n",
        "\n",
        "print(x)\n"
      ],
      "metadata": {
        "colab": {
          "base_uri": "https://localhost:8080/"
        },
        "id": "HptJlhvkmFG4",
        "outputId": "969c04ce-0f47-4aae-d538-da2cfbca0b88"
      },
      "execution_count": 135,
      "outputs": [
        {
          "output_type": "stream",
          "name": "stdout",
          "text": [
            "64\n"
          ]
        }
      ]
    },
    {
      "cell_type": "code",
      "source": [
        "print(\"Hello World\")\n"
      ],
      "metadata": {
        "colab": {
          "base_uri": "https://localhost:8080/"
        },
        "id": "ytWhDkkUmKVl",
        "outputId": "f20746aa-9f15-48d6-8d14-cdf4ebe64285"
      },
      "execution_count": 136,
      "outputs": [
        {
          "output_type": "stream",
          "name": "stdout",
          "text": [
            "Hello World\n"
          ]
        }
      ]
    },
    {
      "cell_type": "code",
      "source": [
        "x = range(6)\n",
        "for n in x:\n",
        "  print(n)"
      ],
      "metadata": {
        "colab": {
          "base_uri": "https://localhost:8080/"
        },
        "id": "bocno1I1mONi",
        "outputId": "5d30261c-5a55-4463-dbf2-bf34cc462eec"
      },
      "execution_count": 137,
      "outputs": [
        {
          "output_type": "stream",
          "name": "stdout",
          "text": [
            "0\n",
            "1\n",
            "2\n",
            "3\n",
            "4\n",
            "5\n"
          ]
        }
      ]
    },
    {
      "cell_type": "code",
      "source": [
        "alph = [\"a\", \"b\", \"c\", \"d\"]\n",
        "ralph = reversed(alph)\n",
        "for x in ralph:\n",
        "  print(x)"
      ],
      "metadata": {
        "colab": {
          "base_uri": "https://localhost:8080/"
        },
        "id": "EsexRmQRmSou",
        "outputId": "3d856174-d6ca-4d0d-e8fd-a839894718d7"
      },
      "execution_count": 138,
      "outputs": [
        {
          "output_type": "stream",
          "name": "stdout",
          "text": [
            "d\n",
            "c\n",
            "b\n",
            "a\n"
          ]
        }
      ]
    },
    {
      "cell_type": "code",
      "source": [
        "x = round(5.76543, 2)\n",
        "print(x)"
      ],
      "metadata": {
        "colab": {
          "base_uri": "https://localhost:8080/"
        },
        "id": "5yyCOephmWX9",
        "outputId": "b3ed1f95-9842-4066-944a-3aad29cf92d8"
      },
      "execution_count": 139,
      "outputs": [
        {
          "output_type": "stream",
          "name": "stdout",
          "text": [
            "5.77\n"
          ]
        }
      ]
    },
    {
      "cell_type": "code",
      "source": [
        "x = set((\"apple\", \"banana\", \"cherry\"))\n",
        "\n",
        "print(x)\n"
      ],
      "metadata": {
        "colab": {
          "base_uri": "https://localhost:8080/"
        },
        "id": "-d_GlTfXmb6P",
        "outputId": "18feb055-cf44-4dc1-d778-08bf71da70bc"
      },
      "execution_count": 140,
      "outputs": [
        {
          "output_type": "stream",
          "name": "stdout",
          "text": [
            "{'banana', 'apple', 'cherry'}\n"
          ]
        }
      ]
    },
    {
      "cell_type": "code",
      "source": [
        "class Person:\n",
        "  name = \"John\"\n",
        "  age = 36\n",
        "  country = \"Norway\"\n",
        "\n",
        "setattr(Person, 'age', 40)\n",
        "\n",
        "# The age property will now have the value: 40\n",
        "\n",
        "x = getattr(Person, 'age')\n",
        "\n",
        "print(x)\n"
      ],
      "metadata": {
        "colab": {
          "base_uri": "https://localhost:8080/"
        },
        "id": "Vnbg5Thwmhk3",
        "outputId": "43564fe3-d002-407f-fbde-3d757f61c674"
      },
      "execution_count": 141,
      "outputs": [
        {
          "output_type": "stream",
          "name": "stdout",
          "text": [
            "40\n"
          ]
        }
      ]
    },
    {
      "cell_type": "code",
      "source": [
        "a = (\"a\", \"b\", \"c\", \"d\", \"e\", \"f\", \"g\", \"h\")\n",
        "x = slice(2)\n",
        "print(a[x])"
      ],
      "metadata": {
        "colab": {
          "base_uri": "https://localhost:8080/"
        },
        "id": "WLoD0R8uml9y",
        "outputId": "5937dfaf-c450-4233-b6ce-d1b3a508e9ea"
      },
      "execution_count": 142,
      "outputs": [
        {
          "output_type": "stream",
          "name": "stdout",
          "text": [
            "('a', 'b')\n"
          ]
        }
      ]
    },
    {
      "cell_type": "code",
      "source": [
        "a = (\"b\", \"g\", \"a\", \"d\", \"f\", \"c\", \"h\", \"e\")\n",
        "x = sorted(a)\n",
        "print(x)"
      ],
      "metadata": {
        "colab": {
          "base_uri": "https://localhost:8080/"
        },
        "id": "06j9OD8KmqrP",
        "outputId": "640a2ba9-18ad-40ec-80e9-bf3b477d8999"
      },
      "execution_count": 143,
      "outputs": [
        {
          "output_type": "stream",
          "name": "stdout",
          "text": [
            "['a', 'b', 'c', 'd', 'e', 'f', 'g', 'h']\n"
          ]
        }
      ]
    },
    {
      "cell_type": "code",
      "source": [
        "x = str(3.5)\n",
        "print(x)"
      ],
      "metadata": {
        "colab": {
          "base_uri": "https://localhost:8080/"
        },
        "id": "GKAKAUQ2mucM",
        "outputId": "d1725c29-f219-416f-f1b3-73a40edadb31"
      },
      "execution_count": 144,
      "outputs": [
        {
          "output_type": "stream",
          "name": "stdout",
          "text": [
            "3.5\n"
          ]
        }
      ]
    },
    {
      "cell_type": "code",
      "source": [
        "a = (1, 2, 3, 4, 5)\n",
        "x = sum(a)\n",
        "print(x)\n"
      ],
      "metadata": {
        "colab": {
          "base_uri": "https://localhost:8080/"
        },
        "id": "ibvhk8iVm3Sv",
        "outputId": "3640542d-33ad-4d58-9aaa-598802731f36"
      },
      "execution_count": 145,
      "outputs": [
        {
          "output_type": "stream",
          "name": "stdout",
          "text": [
            "15\n"
          ]
        }
      ]
    },
    {
      "cell_type": "code",
      "source": [
        "class Parent:\n",
        "  def __init__(self, txt):\n",
        "    self.message = txt\n",
        "\n",
        "  def printmessage(self):\n",
        "    print(self.message)\n",
        "\n",
        "class Child(Parent):\n",
        "  def __init__(self, txt):\n",
        "    super().__init__(txt)\n",
        "\n",
        "x = Child(\"Hello, and welcome!\")\n",
        "\n",
        "x.printmessage()"
      ],
      "metadata": {
        "colab": {
          "base_uri": "https://localhost:8080/"
        },
        "id": "3Tm19kucm7xX",
        "outputId": "598e6795-9107-4d1f-8392-722e5f338cba"
      },
      "execution_count": 146,
      "outputs": [
        {
          "output_type": "stream",
          "name": "stdout",
          "text": [
            "Hello, and welcome!\n"
          ]
        }
      ]
    },
    {
      "cell_type": "code",
      "source": [
        "x = tuple((\"apple\", \"banana\", \"cherry\"))\n",
        "\n",
        "print(x)\n"
      ],
      "metadata": {
        "colab": {
          "base_uri": "https://localhost:8080/"
        },
        "id": "T7_wencCnBn2",
        "outputId": "422fa426-3a25-4942-eea4-75e2cfe573c4"
      },
      "execution_count": 147,
      "outputs": [
        {
          "output_type": "stream",
          "name": "stdout",
          "text": [
            "('apple', 'banana', 'cherry')\n"
          ]
        }
      ]
    },
    {
      "cell_type": "code",
      "source": [
        "a = ('apple', 'banana', 'cherry')\n",
        "b = \"Hello World\"\n",
        "c = 33\n",
        "\n",
        "x = type(a)\n",
        "y = type(b)\n",
        "z = type(c)\n",
        "\n",
        "print(x)\n",
        "print(y)\n",
        "print(z)\n",
        "\n"
      ],
      "metadata": {
        "colab": {
          "base_uri": "https://localhost:8080/"
        },
        "id": "O3t5sQsqnG87",
        "outputId": "ec77b009-596a-40a3-a63a-da251f9e4bc1"
      },
      "execution_count": 148,
      "outputs": [
        {
          "output_type": "stream",
          "name": "stdout",
          "text": [
            "<class 'tuple'>\n",
            "<class 'str'>\n",
            "<class 'int'>\n"
          ]
        }
      ]
    },
    {
      "cell_type": "code",
      "source": [
        "class Person:\n",
        "  name = \"John\"\n",
        "  age = 36\n",
        "  country = \"norway\"\n",
        "\n",
        "x = vars(Person)\n",
        "\n",
        "print(x)\n",
        "\n"
      ],
      "metadata": {
        "colab": {
          "base_uri": "https://localhost:8080/"
        },
        "id": "Pnh2ypEvnMRZ",
        "outputId": "ee0607c7-27ac-43fd-d715-bd51ca0ccac3"
      },
      "execution_count": 149,
      "outputs": [
        {
          "output_type": "stream",
          "name": "stdout",
          "text": [
            "{'__module__': '__main__', 'name': 'John', 'age': 36, 'country': 'norway', '__dict__': <attribute '__dict__' of 'Person' objects>, '__weakref__': <attribute '__weakref__' of 'Person' objects>, '__doc__': None}\n"
          ]
        }
      ]
    },
    {
      "cell_type": "code",
      "source": [
        "a = (\"John\", \"Charles\", \"Mike\")\n",
        "b = (\"Jenny\", \"Christy\", \"Monica\")\n",
        "\n",
        "x = zip(a, b)\n",
        "\n",
        "#use the tuple() function to display a readable version of the result:\n",
        "\n",
        "print(tuple(x))"
      ],
      "metadata": {
        "colab": {
          "base_uri": "https://localhost:8080/"
        },
        "id": "HYKyLLyvnSD6",
        "outputId": "c3b45762-d7f8-42c0-fbf2-d529d88d5b1a"
      },
      "execution_count": 150,
      "outputs": [
        {
          "output_type": "stream",
          "name": "stdout",
          "text": [
            "(('John', 'Jenny'), ('Charles', 'Christy'), ('Mike', 'Monica'))\n"
          ]
        }
      ]
    }
  ]
}